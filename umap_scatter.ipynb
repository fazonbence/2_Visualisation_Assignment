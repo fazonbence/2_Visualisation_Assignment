{
 "metadata": {
  "language_info": {
   "codemirror_mode": {
    "name": "ipython",
    "version": 3
   },
   "file_extension": ".py",
   "mimetype": "text/x-python",
   "name": "python",
   "nbconvert_exporter": "python",
   "pygments_lexer": "ipython3",
   "version": "3.8.5-final"
  },
  "orig_nbformat": 2,
  "kernelspec": {
   "name": "dataviz",
   "display_name": "Python (dataviz)",
   "language": "python"
  }
 },
 "nbformat": 4,
 "nbformat_minor": 2,
 "cells": [
  {
   "cell_type": "code",
   "execution_count": 1,
   "metadata": {},
   "outputs": [],
   "source": [
    "from bokeh.plotting import figure, output_file, show, save\n",
    "from bokeh.io import output_notebook, export_png\n",
    "from bokeh.palettes import colorblind\n",
    "from bokeh.models import (\n",
    "    CategoricalColorMapper,\n",
    "    ColumnDataSource,\n",
    "    LassoSelectTool,\n",
    "    WheelZoomTool,\n",
    "    ZoomInTool,\n",
    "    BoxZoomTool,\n",
    "    ResetTool,\n",
    ")\n",
    "from bokeh.layouts import gridplot\n",
    "from bokeh.resources import CDN\n",
    "from bokeh.embed import file_html\n",
    "\n",
    "import numpy as np\n",
    "import pandas as pd"
   ]
  },
  {
   "cell_type": "code",
   "execution_count": 2,
   "metadata": {},
   "outputs": [],
   "source": [
    "features_train = pd.read_csv(\"features/features_train_clean.csv\")\n",
    "features_test = pd.read_csv(\"features/features_test_clean.csv\")"
   ]
  },
  {
   "cell_type": "code",
   "execution_count": 3,
   "metadata": {},
   "outputs": [],
   "source": [
    "labels_train = features_train[\"label\"]\n",
    "labels_test = features_test[\"label\"]"
   ]
  },
  {
   "cell_type": "code",
   "execution_count": 4,
   "metadata": {},
   "outputs": [],
   "source": [
    "filenames_train = features_train[\"filename\"]\n",
    "filenames_test = features_test[\"filename\"]"
   ]
  },
  {
   "cell_type": "code",
   "execution_count": 5,
   "metadata": {},
   "outputs": [],
   "source": [
    "labels = [0, 1]"
   ]
  },
  {
   "cell_type": "code",
   "execution_count": 6,
   "metadata": {},
   "outputs": [],
   "source": [
    "train_embedding = np.load(\"train_embedding.npy\")\n",
    "test_embedding = np.load(\"test_embedding.npy\")"
   ]
  },
  {
   "cell_type": "code",
   "execution_count": 7,
   "metadata": {},
   "outputs": [],
   "source": [
    "idx_tr = labels_train[labels_train == 0].index.tolist()"
   ]
  },
  {
   "cell_type": "code",
   "execution_count": 10,
   "metadata": {},
   "outputs": [],
   "source": [
    "TOOLTIPS = [\n",
    "    (\"index\", \"$index\"),\n",
    "    (\"(x,y)\", \"($x, $y)\"),\n",
    "    (\"filename\", \"@filename\"),\n",
    "]\n",
    "\n",
    "mycols = colorblind[\"Colorblind\"][4]\n",
    "\n",
    "p = figure(\n",
    "    plot_width=600,\n",
    "    plot_height=600,\n",
    "    tooltips=TOOLTIPS,\n",
    "    tools=\"save\",\n",
    "    toolbar_location=\"left\",\n",
    ")\n",
    "\n",
    "\n",
    "p.title.align = \"center\"\n",
    "p.title.text_color = \"black\"\n",
    "p.title.text_font_size = \"25px\"\n",
    "\n",
    "size = 6\n",
    "\n",
    "\n",
    "for col, label in zip(mycols, labels):\n",
    "    # train\n",
    "    idx_tr = labels_train[labels_train == label].index.tolist()\n",
    "    filenames_train_label = filenames_train.iloc[idx_tr]\n",
    "    train_embedding_label = train_embedding[idx_tr,:]\n",
    "\n",
    "    data_tr = {\"x\": train_embedding_label[:,0], \"y\": train_embedding_label[:,1], \"filename\": filenames_train_label}\n",
    "\n",
    "    source_tr = ColumnDataSource(\n",
    "        data=data_tr)\n",
    "    \n",
    "    p.circle(\n",
    "        x=\"x\",\n",
    "        y=\"y\",\n",
    "        size=size,\n",
    "        source=source_tr,\n",
    "        color=col,\n",
    "        alpha=0.8,\n",
    "        legend_label=str(label) + \" train\",\n",
    "    )\n",
    "\n",
    "    # test\n",
    "    idx_ts = labels_test[labels_test == label].index.tolist()\n",
    "    filenames_test_label = filenames_test.iloc[idx_ts]\n",
    "    test_embedding_label = test_embedding[idx_ts,:]\n",
    "\n",
    "    data_ts = {\"x\": test_embedding_label[:,0], \"y\": test_embedding_label[:,1], \"filename\": filenames_test_label}\n",
    "\n",
    "    source_ts = ColumnDataSource(\n",
    "        data=data_ts)\n",
    "    \n",
    "    p.triangle(x=\"x\", y=\"y\", size=size, source=source_ts, color=col, alpha=0.8, legend_label=str(label) + \" test\")\n",
    "\n",
    "\n",
    "\n",
    "p.add_tools(LassoSelectTool())\n",
    "p.add_tools(WheelZoomTool())\n",
    "p.add_tools(ZoomInTool())\n",
    "p.add_tools(ResetTool())\n",
    "p.add_tools(BoxZoomTool())\n",
    "\n",
    "\n",
    "p.legend.label_text_font_size = \"20pt\"\n",
    "p.yaxis.major_label_text_font_size = \"15pt\"\n",
    "p.xaxis.major_label_text_font_size = \"15pt\"\n",
    "p.legend.location = \"top_left\"\n",
    "p.legend.click_policy = \"hide\"\n",
    "# p.title()\n",
    "\n",
    "\n",
    "show(p)"
   ]
  },
  {
   "cell_type": "code",
   "execution_count": null,
   "metadata": {},
   "outputs": [],
   "source": []
  }
 ]
}