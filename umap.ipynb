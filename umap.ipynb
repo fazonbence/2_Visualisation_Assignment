{
 "metadata": {
  "language_info": {
   "codemirror_mode": {
    "name": "ipython",
    "version": 3
   },
   "file_extension": ".py",
   "mimetype": "text/x-python",
   "name": "python",
   "nbconvert_exporter": "python",
   "pygments_lexer": "ipython3",
   "version": "3.8.5-final"
  },
  "orig_nbformat": 2,
  "kernelspec": {
   "name": "dataviz",
   "display_name": "Python (dataviz)",
   "language": "python"
  }
 },
 "nbformat": 4,
 "nbformat_minor": 2,
 "cells": [
  {
   "cell_type": "code",
   "execution_count": 1,
   "metadata": {},
   "outputs": [],
   "source": [
    "import numpy as np\n",
    "import umap\n",
    "import pandas as pd"
   ]
  },
  {
   "cell_type": "code",
   "execution_count": 2,
   "metadata": {},
   "outputs": [],
   "source": [
    "# experiment name: resnet152_nirschl_20190911-111317\n",
    "features_train = pd.read_csv(\"features/features_train_clean.csv\")\n",
    "features_test = pd.read_csv(\"features/features_test_clean.csv\")"
   ]
  },
  {
   "cell_type": "code",
   "execution_count": 3,
   "metadata": {},
   "outputs": [
    {
     "output_type": "execute_result",
     "data": {
      "text/plain": [
       "                 filename         1    2         3         4         5  \\\n",
       "0  0/33544_0_fal_12_0.png  0.646023  0.0  0.548450  0.000000  0.000000   \n",
       "1  0/33544_0_fal_17_0.png  1.014287  0.0  0.626057  0.707639  0.089202   \n",
       "2  0/33544_0_fal_18_0.png  0.766995  0.0  0.175496  0.400164  0.028296   \n",
       "3  0/33544_0_fal_10_0.png  0.022876  0.0  0.611003  0.008310  0.150685   \n",
       "4  0/33544_0_fal_13_0.png  0.795112  0.0  1.155828  0.498418  0.525433   \n",
       "\n",
       "          6         7         8        9  ...       969       970       971  \\\n",
       "0  0.000000  0.000000  0.000000  0.00000  ...  0.781586  0.370914  0.595375   \n",
       "1  0.000000  0.000000  0.019566  0.06764  ...  1.266571  0.000000  0.000000   \n",
       "2  0.000000  0.020336  0.000000  0.00000  ...  0.722120  0.000000  0.053385   \n",
       "3  0.386474  0.000000  0.000000  0.00000  ...  0.449772  0.000000  0.111770   \n",
       "4  0.000000  0.000000  0.036858  0.00000  ...  0.790252  0.148496  0.000000   \n",
       "\n",
       "        972       973  974       975  976       977  label  \n",
       "0  0.215742  0.852217  0.0  0.007670  0.0  0.351237      0  \n",
       "1  0.965542  0.009766  0.0  0.136514  0.0  0.264849      0  \n",
       "2  0.786805  0.000000  0.0  0.205054  0.0  0.035473      0  \n",
       "3  0.207036  0.815461  0.0  0.226630  0.0  0.000000      0  \n",
       "4  0.865131  0.690153  0.0  0.000000  0.0  0.411627      0  \n",
       "\n",
       "[5 rows x 979 columns]"
      ],
      "text/html": "<div>\n<style scoped>\n    .dataframe tbody tr th:only-of-type {\n        vertical-align: middle;\n    }\n\n    .dataframe tbody tr th {\n        vertical-align: top;\n    }\n\n    .dataframe thead th {\n        text-align: right;\n    }\n</style>\n<table border=\"1\" class=\"dataframe\">\n  <thead>\n    <tr style=\"text-align: right;\">\n      <th></th>\n      <th>filename</th>\n      <th>1</th>\n      <th>2</th>\n      <th>3</th>\n      <th>4</th>\n      <th>5</th>\n      <th>6</th>\n      <th>7</th>\n      <th>8</th>\n      <th>9</th>\n      <th>...</th>\n      <th>969</th>\n      <th>970</th>\n      <th>971</th>\n      <th>972</th>\n      <th>973</th>\n      <th>974</th>\n      <th>975</th>\n      <th>976</th>\n      <th>977</th>\n      <th>label</th>\n    </tr>\n  </thead>\n  <tbody>\n    <tr>\n      <th>0</th>\n      <td>0/33544_0_fal_12_0.png</td>\n      <td>0.646023</td>\n      <td>0.0</td>\n      <td>0.548450</td>\n      <td>0.000000</td>\n      <td>0.000000</td>\n      <td>0.000000</td>\n      <td>0.000000</td>\n      <td>0.000000</td>\n      <td>0.00000</td>\n      <td>...</td>\n      <td>0.781586</td>\n      <td>0.370914</td>\n      <td>0.595375</td>\n      <td>0.215742</td>\n      <td>0.852217</td>\n      <td>0.0</td>\n      <td>0.007670</td>\n      <td>0.0</td>\n      <td>0.351237</td>\n      <td>0</td>\n    </tr>\n    <tr>\n      <th>1</th>\n      <td>0/33544_0_fal_17_0.png</td>\n      <td>1.014287</td>\n      <td>0.0</td>\n      <td>0.626057</td>\n      <td>0.707639</td>\n      <td>0.089202</td>\n      <td>0.000000</td>\n      <td>0.000000</td>\n      <td>0.019566</td>\n      <td>0.06764</td>\n      <td>...</td>\n      <td>1.266571</td>\n      <td>0.000000</td>\n      <td>0.000000</td>\n      <td>0.965542</td>\n      <td>0.009766</td>\n      <td>0.0</td>\n      <td>0.136514</td>\n      <td>0.0</td>\n      <td>0.264849</td>\n      <td>0</td>\n    </tr>\n    <tr>\n      <th>2</th>\n      <td>0/33544_0_fal_18_0.png</td>\n      <td>0.766995</td>\n      <td>0.0</td>\n      <td>0.175496</td>\n      <td>0.400164</td>\n      <td>0.028296</td>\n      <td>0.000000</td>\n      <td>0.020336</td>\n      <td>0.000000</td>\n      <td>0.00000</td>\n      <td>...</td>\n      <td>0.722120</td>\n      <td>0.000000</td>\n      <td>0.053385</td>\n      <td>0.786805</td>\n      <td>0.000000</td>\n      <td>0.0</td>\n      <td>0.205054</td>\n      <td>0.0</td>\n      <td>0.035473</td>\n      <td>0</td>\n    </tr>\n    <tr>\n      <th>3</th>\n      <td>0/33544_0_fal_10_0.png</td>\n      <td>0.022876</td>\n      <td>0.0</td>\n      <td>0.611003</td>\n      <td>0.008310</td>\n      <td>0.150685</td>\n      <td>0.386474</td>\n      <td>0.000000</td>\n      <td>0.000000</td>\n      <td>0.00000</td>\n      <td>...</td>\n      <td>0.449772</td>\n      <td>0.000000</td>\n      <td>0.111770</td>\n      <td>0.207036</td>\n      <td>0.815461</td>\n      <td>0.0</td>\n      <td>0.226630</td>\n      <td>0.0</td>\n      <td>0.000000</td>\n      <td>0</td>\n    </tr>\n    <tr>\n      <th>4</th>\n      <td>0/33544_0_fal_13_0.png</td>\n      <td>0.795112</td>\n      <td>0.0</td>\n      <td>1.155828</td>\n      <td>0.498418</td>\n      <td>0.525433</td>\n      <td>0.000000</td>\n      <td>0.000000</td>\n      <td>0.036858</td>\n      <td>0.00000</td>\n      <td>...</td>\n      <td>0.790252</td>\n      <td>0.148496</td>\n      <td>0.000000</td>\n      <td>0.865131</td>\n      <td>0.690153</td>\n      <td>0.0</td>\n      <td>0.000000</td>\n      <td>0.0</td>\n      <td>0.411627</td>\n      <td>0</td>\n    </tr>\n  </tbody>\n</table>\n<p>5 rows × 979 columns</p>\n</div>"
     },
     "metadata": {},
     "execution_count": 3
    }
   ],
   "source": [
    "features_train.head()"
   ]
  },
  {
   "cell_type": "code",
   "execution_count": 4,
   "metadata": {},
   "outputs": [
    {
     "output_type": "execute_result",
     "data": {
      "text/plain": [
       "                 filename         1    2         3         4         5  \\\n",
       "0  0/33550_0_fal_32_0.png  0.632956  0.0  0.690343  0.093129  0.378777   \n",
       "1  0/33550_0_fal_33_0.png  0.969749  0.0  0.697840  0.134453  0.461785   \n",
       "2  0/33550_0_fal_15_0.png  0.695140  0.0  0.828014  0.462300  0.584252   \n",
       "3  0/33550_0_fal_35_0.png  0.554491  0.0  0.677627  0.000000  0.000000   \n",
       "4   0/33550_0_fal_5_0.png  0.648289  0.0  0.605841  0.488126  0.000000   \n",
       "\n",
       "          6    7    8         9  ...       969       970       971       972  \\\n",
       "0  0.000000  0.0  0.0  0.000000  ...  0.638612  0.120124  0.025838  0.442518   \n",
       "1  0.000000  0.0  0.0  0.000000  ...  0.849103  0.000000  0.546426  0.322341   \n",
       "2  0.052451  0.0  0.0  0.000000  ...  0.542614  0.000000  0.000000  0.589862   \n",
       "3  0.197005  0.0  0.0  0.068628  ...  0.755464  0.000000  0.218999  0.025332   \n",
       "4  0.000000  0.0  0.0  0.280967  ...  0.878714  0.000000  0.286493  0.479262   \n",
       "\n",
       "        973  974       975  976       977  label  \n",
       "0  0.663082  0.0  0.000000  0.0  0.613811      0  \n",
       "1  0.839374  0.0  0.005378  0.0  0.440764      0  \n",
       "2  0.344919  0.0  0.261044  0.0  0.042069      0  \n",
       "3  0.338357  0.0  0.141055  0.0  0.285640      0  \n",
       "4  0.350941  0.0  0.000000  0.0  0.284746      0  \n",
       "\n",
       "[5 rows x 979 columns]"
      ],
      "text/html": "<div>\n<style scoped>\n    .dataframe tbody tr th:only-of-type {\n        vertical-align: middle;\n    }\n\n    .dataframe tbody tr th {\n        vertical-align: top;\n    }\n\n    .dataframe thead th {\n        text-align: right;\n    }\n</style>\n<table border=\"1\" class=\"dataframe\">\n  <thead>\n    <tr style=\"text-align: right;\">\n      <th></th>\n      <th>filename</th>\n      <th>1</th>\n      <th>2</th>\n      <th>3</th>\n      <th>4</th>\n      <th>5</th>\n      <th>6</th>\n      <th>7</th>\n      <th>8</th>\n      <th>9</th>\n      <th>...</th>\n      <th>969</th>\n      <th>970</th>\n      <th>971</th>\n      <th>972</th>\n      <th>973</th>\n      <th>974</th>\n      <th>975</th>\n      <th>976</th>\n      <th>977</th>\n      <th>label</th>\n    </tr>\n  </thead>\n  <tbody>\n    <tr>\n      <th>0</th>\n      <td>0/33550_0_fal_32_0.png</td>\n      <td>0.632956</td>\n      <td>0.0</td>\n      <td>0.690343</td>\n      <td>0.093129</td>\n      <td>0.378777</td>\n      <td>0.000000</td>\n      <td>0.0</td>\n      <td>0.0</td>\n      <td>0.000000</td>\n      <td>...</td>\n      <td>0.638612</td>\n      <td>0.120124</td>\n      <td>0.025838</td>\n      <td>0.442518</td>\n      <td>0.663082</td>\n      <td>0.0</td>\n      <td>0.000000</td>\n      <td>0.0</td>\n      <td>0.613811</td>\n      <td>0</td>\n    </tr>\n    <tr>\n      <th>1</th>\n      <td>0/33550_0_fal_33_0.png</td>\n      <td>0.969749</td>\n      <td>0.0</td>\n      <td>0.697840</td>\n      <td>0.134453</td>\n      <td>0.461785</td>\n      <td>0.000000</td>\n      <td>0.0</td>\n      <td>0.0</td>\n      <td>0.000000</td>\n      <td>...</td>\n      <td>0.849103</td>\n      <td>0.000000</td>\n      <td>0.546426</td>\n      <td>0.322341</td>\n      <td>0.839374</td>\n      <td>0.0</td>\n      <td>0.005378</td>\n      <td>0.0</td>\n      <td>0.440764</td>\n      <td>0</td>\n    </tr>\n    <tr>\n      <th>2</th>\n      <td>0/33550_0_fal_15_0.png</td>\n      <td>0.695140</td>\n      <td>0.0</td>\n      <td>0.828014</td>\n      <td>0.462300</td>\n      <td>0.584252</td>\n      <td>0.052451</td>\n      <td>0.0</td>\n      <td>0.0</td>\n      <td>0.000000</td>\n      <td>...</td>\n      <td>0.542614</td>\n      <td>0.000000</td>\n      <td>0.000000</td>\n      <td>0.589862</td>\n      <td>0.344919</td>\n      <td>0.0</td>\n      <td>0.261044</td>\n      <td>0.0</td>\n      <td>0.042069</td>\n      <td>0</td>\n    </tr>\n    <tr>\n      <th>3</th>\n      <td>0/33550_0_fal_35_0.png</td>\n      <td>0.554491</td>\n      <td>0.0</td>\n      <td>0.677627</td>\n      <td>0.000000</td>\n      <td>0.000000</td>\n      <td>0.197005</td>\n      <td>0.0</td>\n      <td>0.0</td>\n      <td>0.068628</td>\n      <td>...</td>\n      <td>0.755464</td>\n      <td>0.000000</td>\n      <td>0.218999</td>\n      <td>0.025332</td>\n      <td>0.338357</td>\n      <td>0.0</td>\n      <td>0.141055</td>\n      <td>0.0</td>\n      <td>0.285640</td>\n      <td>0</td>\n    </tr>\n    <tr>\n      <th>4</th>\n      <td>0/33550_0_fal_5_0.png</td>\n      <td>0.648289</td>\n      <td>0.0</td>\n      <td>0.605841</td>\n      <td>0.488126</td>\n      <td>0.000000</td>\n      <td>0.000000</td>\n      <td>0.0</td>\n      <td>0.0</td>\n      <td>0.280967</td>\n      <td>...</td>\n      <td>0.878714</td>\n      <td>0.000000</td>\n      <td>0.286493</td>\n      <td>0.479262</td>\n      <td>0.350941</td>\n      <td>0.0</td>\n      <td>0.000000</td>\n      <td>0.0</td>\n      <td>0.284746</td>\n      <td>0</td>\n    </tr>\n  </tbody>\n</table>\n<p>5 rows × 979 columns</p>\n</div>"
     },
     "metadata": {},
     "execution_count": 4
    }
   ],
   "source": [
    "features_test.head()"
   ]
  },
  {
   "cell_type": "code",
   "execution_count": 5,
   "metadata": {},
   "outputs": [],
   "source": [
    "train_data = features_train.drop([\"filename\", \"label\"], axis=1)\n",
    "test_data = features_test.drop([\"filename\", \"label\"], axis=1)"
   ]
  },
  {
   "cell_type": "code",
   "execution_count": 6,
   "metadata": {},
   "outputs": [
    {
     "output_type": "stream",
     "name": "stdout",
     "text": [
      "UMAP(min_dist=0.01, n_neighbors=40, verbose=True)\n",
      "Construct fuzzy simplicial set\n",
      "Tue Dec 22 19:54:45 2020 Finding Nearest Neighbors\n",
      "Tue Dec 22 19:54:47 2020 Finished Nearest Neighbor Search\n",
      "Tue Dec 22 19:54:50 2020 Construct embedding\n",
      "\tcompleted  0  /  500 epochs\n",
      "\tcompleted  50  /  500 epochs\n",
      "\tcompleted  100  /  500 epochs\n",
      "\tcompleted  150  /  500 epochs\n",
      "\tcompleted  200  /  500 epochs\n",
      "\tcompleted  250  /  500 epochs\n",
      "\tcompleted  300  /  500 epochs\n",
      "\tcompleted  350  /  500 epochs\n",
      "\tcompleted  400  /  500 epochs\n",
      "\tcompleted  450  /  500 epochs\n",
      "Tue Dec 22 19:54:54 2020 Finished embedding\n"
     ]
    }
   ],
   "source": [
    "mapper = umap.UMAP(n_neighbors=40, min_dist=0.01, n_components=2,\n",
    "                   metric='euclidean', verbose=True).fit(train_data)"
   ]
  },
  {
   "cell_type": "code",
   "execution_count": 7,
   "metadata": {},
   "outputs": [
    {
     "output_type": "stream",
     "name": "stdout",
     "text": [
      "\tcompleted  0  /  100 epochs\n\tcompleted  10  /  100 epochs\n\tcompleted  20  /  100 epochs\n\tcompleted  30  /  100 epochs\n\tcompleted  40  /  100 epochs\n\tcompleted  50  /  100 epochs\n\tcompleted  60  /  100 epochs\n\tcompleted  70  /  100 epochs\n\tcompleted  80  /  100 epochs\n\tcompleted  90  /  100 epochs\n"
     ]
    }
   ],
   "source": [
    "test_embedding = mapper.transform(test_data)"
   ]
  },
  {
   "cell_type": "code",
   "execution_count": 8,
   "metadata": {},
   "outputs": [
    {
     "output_type": "execute_result",
     "data": {
      "text/plain": [
       "(448, 2)"
      ]
     },
     "metadata": {},
     "execution_count": 8
    }
   ],
   "source": [
    "test_embedding.shape"
   ]
  },
  {
   "cell_type": "code",
   "execution_count": 9,
   "metadata": {},
   "outputs": [
    {
     "output_type": "execute_result",
     "data": {
      "text/plain": [
       "(1824, 2)"
      ]
     },
     "metadata": {},
     "execution_count": 9
    }
   ],
   "source": [
    "mapper.embedding_.shape"
   ]
  },
  {
   "cell_type": "code",
   "execution_count": 10,
   "metadata": {},
   "outputs": [],
   "source": [
    "np.save(\"test_embedding.npy\", test_embedding)\n",
    "np.save(\"train_embedding.npy\", mapper.embedding_)"
   ]
  },
  {
   "cell_type": "code",
   "execution_count": null,
   "metadata": {},
   "outputs": [],
   "source": []
  }
 ]
}