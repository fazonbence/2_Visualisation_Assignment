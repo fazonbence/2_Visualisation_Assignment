{
 "metadata": {
  "language_info": {
   "codemirror_mode": {
    "name": "ipython",
    "version": 3
   },
   "file_extension": ".py",
   "mimetype": "text/x-python",
   "name": "python",
   "nbconvert_exporter": "python",
   "pygments_lexer": "ipython3",
   "version": "3.8.5-final"
  },
  "orig_nbformat": 2,
  "kernelspec": {
   "name": "python3",
   "display_name": "Python 3",
   "language": "python"
  }
 },
 "nbformat": 4,
 "nbformat_minor": 2,
 "cells": [
  {
   "cell_type": "code",
   "execution_count": 152,
   "metadata": {},
   "outputs": [],
   "source": [
    "import numpy as np\n",
    "import pandas as pd"
   ]
  },
  {
   "cell_type": "code",
   "execution_count": 153,
   "metadata": {},
   "outputs": [
    {
     "output_type": "execute_result",
     "data": {
      "text/plain": [
       "  Dataset Name            Image Name Characteristics [Organism]  \\\n",
       "0     training  33381_0_fal_10_0.png               Homo sapiens   \n",
       "1     training  33381_0_fal_14_0.png               Homo sapiens   \n",
       "2     training  33381_0_fal_16_0.png               Homo sapiens   \n",
       "3     training  33381_0_fal_18_0.png               Homo sapiens   \n",
       "4     training  33381_0_fal_25_0.png               Homo sapiens   \n",
       "\n",
       "  Term Source 1 REF Term Source 1 Accession Characteristics [Organism Part]  \\\n",
       "0         NCBITaxon          NCBITaxon_9606                           heart   \n",
       "1         NCBITaxon          NCBITaxon_9606                           heart   \n",
       "2         NCBITaxon          NCBITaxon_9606                           heart   \n",
       "3         NCBITaxon          NCBITaxon_9606                           heart   \n",
       "4         NCBITaxon          NCBITaxon_9606                           heart   \n",
       "\n",
       "  Term Source 2 REF Term Source 2 Accession Characteristics [Diagnosis]  \\\n",
       "0            UBERON          UBERON_0000948       chronic heart failure   \n",
       "1            UBERON          UBERON_0000948       chronic heart failure   \n",
       "2            UBERON          UBERON_0000948       chronic heart failure   \n",
       "3            UBERON          UBERON_0000948       chronic heart failure   \n",
       "4            UBERON          UBERON_0000948       chronic heart failure   \n",
       "\n",
       "  Term Source 3 REF  ... Characteristics [Ethnic or Racial Group]  \\\n",
       "0            SNOMED  ...                         African American   \n",
       "1            SNOMED  ...                         African American   \n",
       "2            SNOMED  ...                         African American   \n",
       "3            SNOMED  ...                         African American   \n",
       "4            SNOMED  ...                         African American   \n",
       "\n",
       "  Term Source 6 REF Term Source 6 Accession Characteristics [Age]  \\\n",
       "0            SNOMED          SNOMED_S-62310              65 years   \n",
       "1            SNOMED          SNOMED_S-62310              65 years   \n",
       "2            SNOMED          SNOMED_S-62310              65 years   \n",
       "3            SNOMED          SNOMED_S-62310              65 years   \n",
       "4            SNOMED          SNOMED_S-62310              65 years   \n",
       "\n",
       "  Characteristics [Individual] Characteristics [Clinical History]  \\\n",
       "0                        33381            ischemic cardiomyopathy   \n",
       "1                        33381            ischemic cardiomyopathy   \n",
       "2                        33381            ischemic cardiomyopathy   \n",
       "3                        33381            ischemic cardiomyopathy   \n",
       "4                        33381            ischemic cardiomyopathy   \n",
       "\n",
       "         Protocol REF     Protocol REF.1 Experimental Condition [Diagnosis]  \\\n",
       "0  treatment protocol  image acquisition              chronic heart failure   \n",
       "1  treatment protocol  image acquisition              chronic heart failure   \n",
       "2  treatment protocol  image acquisition              chronic heart failure   \n",
       "3  treatment protocol  image acquisition              chronic heart failure   \n",
       "4  treatment protocol  image acquisition              chronic heart failure   \n",
       "\n",
       "  Channels  \n",
       "0      RGB  \n",
       "1      RGB  \n",
       "2      RGB  \n",
       "3      RGB  \n",
       "4      RGB  \n",
       "\n",
       "[5 rows x 27 columns]"
      ],
      "text/html": "<div>\n<style scoped>\n    .dataframe tbody tr th:only-of-type {\n        vertical-align: middle;\n    }\n\n    .dataframe tbody tr th {\n        vertical-align: top;\n    }\n\n    .dataframe thead th {\n        text-align: right;\n    }\n</style>\n<table border=\"1\" class=\"dataframe\">\n  <thead>\n    <tr style=\"text-align: right;\">\n      <th></th>\n      <th>Dataset Name</th>\n      <th>Image Name</th>\n      <th>Characteristics [Organism]</th>\n      <th>Term Source 1 REF</th>\n      <th>Term Source 1 Accession</th>\n      <th>Characteristics [Organism Part]</th>\n      <th>Term Source 2 REF</th>\n      <th>Term Source 2 Accession</th>\n      <th>Characteristics [Diagnosis]</th>\n      <th>Term Source 3 REF</th>\n      <th>...</th>\n      <th>Characteristics [Ethnic or Racial Group]</th>\n      <th>Term Source 6 REF</th>\n      <th>Term Source 6 Accession</th>\n      <th>Characteristics [Age]</th>\n      <th>Characteristics [Individual]</th>\n      <th>Characteristics [Clinical History]</th>\n      <th>Protocol REF</th>\n      <th>Protocol REF.1</th>\n      <th>Experimental Condition [Diagnosis]</th>\n      <th>Channels</th>\n    </tr>\n  </thead>\n  <tbody>\n    <tr>\n      <th>0</th>\n      <td>training</td>\n      <td>33381_0_fal_10_0.png</td>\n      <td>Homo sapiens</td>\n      <td>NCBITaxon</td>\n      <td>NCBITaxon_9606</td>\n      <td>heart</td>\n      <td>UBERON</td>\n      <td>UBERON_0000948</td>\n      <td>chronic heart failure</td>\n      <td>SNOMED</td>\n      <td>...</td>\n      <td>African American</td>\n      <td>SNOMED</td>\n      <td>SNOMED_S-62310</td>\n      <td>65 years</td>\n      <td>33381</td>\n      <td>ischemic cardiomyopathy</td>\n      <td>treatment protocol</td>\n      <td>image acquisition</td>\n      <td>chronic heart failure</td>\n      <td>RGB</td>\n    </tr>\n    <tr>\n      <th>1</th>\n      <td>training</td>\n      <td>33381_0_fal_14_0.png</td>\n      <td>Homo sapiens</td>\n      <td>NCBITaxon</td>\n      <td>NCBITaxon_9606</td>\n      <td>heart</td>\n      <td>UBERON</td>\n      <td>UBERON_0000948</td>\n      <td>chronic heart failure</td>\n      <td>SNOMED</td>\n      <td>...</td>\n      <td>African American</td>\n      <td>SNOMED</td>\n      <td>SNOMED_S-62310</td>\n      <td>65 years</td>\n      <td>33381</td>\n      <td>ischemic cardiomyopathy</td>\n      <td>treatment protocol</td>\n      <td>image acquisition</td>\n      <td>chronic heart failure</td>\n      <td>RGB</td>\n    </tr>\n    <tr>\n      <th>2</th>\n      <td>training</td>\n      <td>33381_0_fal_16_0.png</td>\n      <td>Homo sapiens</td>\n      <td>NCBITaxon</td>\n      <td>NCBITaxon_9606</td>\n      <td>heart</td>\n      <td>UBERON</td>\n      <td>UBERON_0000948</td>\n      <td>chronic heart failure</td>\n      <td>SNOMED</td>\n      <td>...</td>\n      <td>African American</td>\n      <td>SNOMED</td>\n      <td>SNOMED_S-62310</td>\n      <td>65 years</td>\n      <td>33381</td>\n      <td>ischemic cardiomyopathy</td>\n      <td>treatment protocol</td>\n      <td>image acquisition</td>\n      <td>chronic heart failure</td>\n      <td>RGB</td>\n    </tr>\n    <tr>\n      <th>3</th>\n      <td>training</td>\n      <td>33381_0_fal_18_0.png</td>\n      <td>Homo sapiens</td>\n      <td>NCBITaxon</td>\n      <td>NCBITaxon_9606</td>\n      <td>heart</td>\n      <td>UBERON</td>\n      <td>UBERON_0000948</td>\n      <td>chronic heart failure</td>\n      <td>SNOMED</td>\n      <td>...</td>\n      <td>African American</td>\n      <td>SNOMED</td>\n      <td>SNOMED_S-62310</td>\n      <td>65 years</td>\n      <td>33381</td>\n      <td>ischemic cardiomyopathy</td>\n      <td>treatment protocol</td>\n      <td>image acquisition</td>\n      <td>chronic heart failure</td>\n      <td>RGB</td>\n    </tr>\n    <tr>\n      <th>4</th>\n      <td>training</td>\n      <td>33381_0_fal_25_0.png</td>\n      <td>Homo sapiens</td>\n      <td>NCBITaxon</td>\n      <td>NCBITaxon_9606</td>\n      <td>heart</td>\n      <td>UBERON</td>\n      <td>UBERON_0000948</td>\n      <td>chronic heart failure</td>\n      <td>SNOMED</td>\n      <td>...</td>\n      <td>African American</td>\n      <td>SNOMED</td>\n      <td>SNOMED_S-62310</td>\n      <td>65 years</td>\n      <td>33381</td>\n      <td>ischemic cardiomyopathy</td>\n      <td>treatment protocol</td>\n      <td>image acquisition</td>\n      <td>chronic heart failure</td>\n      <td>RGB</td>\n    </tr>\n  </tbody>\n</table>\n<p>5 rows × 27 columns</p>\n</div>"
     },
     "metadata": {},
     "execution_count": 153
    }
   ],
   "source": [
    "#every data in the csv\n",
    "experiment_data = pd.read_csv(\"idr0042-experimentA-annotation.csv\")\n",
    "experiment_data.head()\n",
    "#print(experiment_data.columns)"
   ]
  },
  {
   "cell_type": "code",
   "execution_count": 154,
   "metadata": {},
   "outputs": [
    {
     "output_type": "execute_result",
     "data": {
      "text/plain": [
       "  Dataset Name            Image Name              Diagnosis  \\\n",
       "0     training  33381_0_fal_10_0.png  chronic heart failure   \n",
       "1     training  33381_0_fal_14_0.png  chronic heart failure   \n",
       "2     training  33381_0_fal_16_0.png  chronic heart failure   \n",
       "3     training  33381_0_fal_18_0.png  chronic heart failure   \n",
       "4     training  33381_0_fal_25_0.png  chronic heart failure   \n",
       "\n",
       "           Disease Subtype   Sex Ethnic or Racial Group       Age  Patient Id  \\\n",
       "0  ischemic cardiomyopathy  male       African American  65 years       33381   \n",
       "1  ischemic cardiomyopathy  male       African American  65 years       33381   \n",
       "2  ischemic cardiomyopathy  male       African American  65 years       33381   \n",
       "3  ischemic cardiomyopathy  male       African American  65 years       33381   \n",
       "4  ischemic cardiomyopathy  male       African American  65 years       33381   \n",
       "\n",
       "          Clinical History  \n",
       "0  ischemic cardiomyopathy  \n",
       "1  ischemic cardiomyopathy  \n",
       "2  ischemic cardiomyopathy  \n",
       "3  ischemic cardiomyopathy  \n",
       "4  ischemic cardiomyopathy  "
      ],
      "text/html": "<div>\n<style scoped>\n    .dataframe tbody tr th:only-of-type {\n        vertical-align: middle;\n    }\n\n    .dataframe tbody tr th {\n        vertical-align: top;\n    }\n\n    .dataframe thead th {\n        text-align: right;\n    }\n</style>\n<table border=\"1\" class=\"dataframe\">\n  <thead>\n    <tr style=\"text-align: right;\">\n      <th></th>\n      <th>Dataset Name</th>\n      <th>Image Name</th>\n      <th>Diagnosis</th>\n      <th>Disease Subtype</th>\n      <th>Sex</th>\n      <th>Ethnic or Racial Group</th>\n      <th>Age</th>\n      <th>Patient Id</th>\n      <th>Clinical History</th>\n    </tr>\n  </thead>\n  <tbody>\n    <tr>\n      <th>0</th>\n      <td>training</td>\n      <td>33381_0_fal_10_0.png</td>\n      <td>chronic heart failure</td>\n      <td>ischemic cardiomyopathy</td>\n      <td>male</td>\n      <td>African American</td>\n      <td>65 years</td>\n      <td>33381</td>\n      <td>ischemic cardiomyopathy</td>\n    </tr>\n    <tr>\n      <th>1</th>\n      <td>training</td>\n      <td>33381_0_fal_14_0.png</td>\n      <td>chronic heart failure</td>\n      <td>ischemic cardiomyopathy</td>\n      <td>male</td>\n      <td>African American</td>\n      <td>65 years</td>\n      <td>33381</td>\n      <td>ischemic cardiomyopathy</td>\n    </tr>\n    <tr>\n      <th>2</th>\n      <td>training</td>\n      <td>33381_0_fal_16_0.png</td>\n      <td>chronic heart failure</td>\n      <td>ischemic cardiomyopathy</td>\n      <td>male</td>\n      <td>African American</td>\n      <td>65 years</td>\n      <td>33381</td>\n      <td>ischemic cardiomyopathy</td>\n    </tr>\n    <tr>\n      <th>3</th>\n      <td>training</td>\n      <td>33381_0_fal_18_0.png</td>\n      <td>chronic heart failure</td>\n      <td>ischemic cardiomyopathy</td>\n      <td>male</td>\n      <td>African American</td>\n      <td>65 years</td>\n      <td>33381</td>\n      <td>ischemic cardiomyopathy</td>\n    </tr>\n    <tr>\n      <th>4</th>\n      <td>training</td>\n      <td>33381_0_fal_25_0.png</td>\n      <td>chronic heart failure</td>\n      <td>ischemic cardiomyopathy</td>\n      <td>male</td>\n      <td>African American</td>\n      <td>65 years</td>\n      <td>33381</td>\n      <td>ischemic cardiomyopathy</td>\n    </tr>\n  </tbody>\n</table>\n</div>"
     },
     "metadata": {},
     "execution_count": 154
    }
   ],
   "source": [
    "#only needed features, with better columnnames\n",
    "medical_data = experiment_data[[\"Dataset Name\", \"Image Name\", \"Characteristics [Diagnosis]\", \"Characteristics [Disease Subtype]\", \"Characteristics [Sex]\", \"Characteristics [Ethnic or Racial Group]\", \"Characteristics [Age]\", \"Characteristics [Individual]\",\"Characteristics [Clinical History]\"]]\n",
    "\n",
    "medical_data=medical_data.rename(columns={\"Characteristics [Diagnosis]\": \"Diagnosis\",\"Characteristics [Disease Subtype]\":\"Disease Subtype\", \"Characteristics [Sex]\":\"Sex\", \"Characteristics [Ethnic or Racial Group]\":\"Ethnic or Racial Group\", \"Characteristics [Age]\":\"Age\", \"Characteristics [Individual]\":\"Patient Id\", \"Characteristics [Clinical History]\":\"Clinical History\" })\n",
    "medical_data.head()"
   ]
  },
  {
   "cell_type": "code",
   "execution_count": 155,
   "metadata": {},
   "outputs": [
    {
     "output_type": "execute_result",
     "data": {
      "text/plain": [
       "  Dataset Name            Image Name              Diagnosis  \\\n",
       "0     training  33381_0_fal_10_0.png  chronic heart failure   \n",
       "1     training  33381_0_fal_14_0.png  chronic heart failure   \n",
       "2     training  33381_0_fal_16_0.png  chronic heart failure   \n",
       "3     training  33381_0_fal_18_0.png  chronic heart failure   \n",
       "4     training  33381_0_fal_25_0.png  chronic heart failure   \n",
       "\n",
       "           Disease Subtype   Sex Ethnic or Racial Group       Age  Patient Id  \\\n",
       "0  ischemic cardiomyopathy  male       African American  65 years       33381   \n",
       "1  ischemic cardiomyopathy  male       African American  65 years       33381   \n",
       "2  ischemic cardiomyopathy  male       African American  65 years       33381   \n",
       "3  ischemic cardiomyopathy  male       African American  65 years       33381   \n",
       "4  ischemic cardiomyopathy  male       African American  65 years       33381   \n",
       "\n",
       "          Clinical History  \n",
       "0  ischemic cardiomyopathy  \n",
       "1  ischemic cardiomyopathy  \n",
       "2  ischemic cardiomyopathy  \n",
       "3  ischemic cardiomyopathy  \n",
       "4  ischemic cardiomyopathy  "
      ],
      "text/html": "<div>\n<style scoped>\n    .dataframe tbody tr th:only-of-type {\n        vertical-align: middle;\n    }\n\n    .dataframe tbody tr th {\n        vertical-align: top;\n    }\n\n    .dataframe thead th {\n        text-align: right;\n    }\n</style>\n<table border=\"1\" class=\"dataframe\">\n  <thead>\n    <tr style=\"text-align: right;\">\n      <th></th>\n      <th>Dataset Name</th>\n      <th>Image Name</th>\n      <th>Diagnosis</th>\n      <th>Disease Subtype</th>\n      <th>Sex</th>\n      <th>Ethnic or Racial Group</th>\n      <th>Age</th>\n      <th>Patient Id</th>\n      <th>Clinical History</th>\n    </tr>\n  </thead>\n  <tbody>\n    <tr>\n      <th>0</th>\n      <td>training</td>\n      <td>33381_0_fal_10_0.png</td>\n      <td>chronic heart failure</td>\n      <td>ischemic cardiomyopathy</td>\n      <td>male</td>\n      <td>African American</td>\n      <td>65 years</td>\n      <td>33381</td>\n      <td>ischemic cardiomyopathy</td>\n    </tr>\n    <tr>\n      <th>1</th>\n      <td>training</td>\n      <td>33381_0_fal_14_0.png</td>\n      <td>chronic heart failure</td>\n      <td>ischemic cardiomyopathy</td>\n      <td>male</td>\n      <td>African American</td>\n      <td>65 years</td>\n      <td>33381</td>\n      <td>ischemic cardiomyopathy</td>\n    </tr>\n    <tr>\n      <th>2</th>\n      <td>training</td>\n      <td>33381_0_fal_16_0.png</td>\n      <td>chronic heart failure</td>\n      <td>ischemic cardiomyopathy</td>\n      <td>male</td>\n      <td>African American</td>\n      <td>65 years</td>\n      <td>33381</td>\n      <td>ischemic cardiomyopathy</td>\n    </tr>\n    <tr>\n      <th>3</th>\n      <td>training</td>\n      <td>33381_0_fal_18_0.png</td>\n      <td>chronic heart failure</td>\n      <td>ischemic cardiomyopathy</td>\n      <td>male</td>\n      <td>African American</td>\n      <td>65 years</td>\n      <td>33381</td>\n      <td>ischemic cardiomyopathy</td>\n    </tr>\n    <tr>\n      <th>4</th>\n      <td>training</td>\n      <td>33381_0_fal_25_0.png</td>\n      <td>chronic heart failure</td>\n      <td>ischemic cardiomyopathy</td>\n      <td>male</td>\n      <td>African American</td>\n      <td>65 years</td>\n      <td>33381</td>\n      <td>ischemic cardiomyopathy</td>\n    </tr>\n  </tbody>\n</table>\n</div>"
     },
     "metadata": {},
     "execution_count": 155
    }
   ],
   "source": [
    "#flag\n",
    "#does something but not yet corrctly\n",
    "#remove nan Aged patients\n",
    "medical_data.head()\n",
    "#print(\"#######################\");\n",
    "#medical_data[medical_data[\"Age\"] == \"nan11\"].head()\n",
    "#medical_data.drop(medical_data[medical_data[\"Age\"] == \"nan11\"])\n",
    "medical_data= medical_data.dropna(subset=[\"Age\", \"Sex\"])\n",
    "medical_data.head()"
   ]
  },
  {
   "cell_type": "code",
   "execution_count": 156,
   "metadata": {
    "tags": []
   },
   "outputs": [
    {
     "output_type": "stream",
     "name": "stdout",
     "text": [
      "{'', <class 'float'>}\n"
     ]
    },
    {
     "output_type": "execute_result",
     "data": {
      "text/plain": [
       "  Dataset Name            Image Name              Diagnosis  \\\n",
       "0     training  33381_0_fal_10_0.png  chronic heart failure   \n",
       "1     training  33381_0_fal_14_0.png  chronic heart failure   \n",
       "2     training  33381_0_fal_16_0.png  chronic heart failure   \n",
       "3     training  33381_0_fal_18_0.png  chronic heart failure   \n",
       "4     training  33381_0_fal_25_0.png  chronic heart failure   \n",
       "\n",
       "           Disease Subtype   Sex Ethnic or Racial Group   Age  Patient Id  \\\n",
       "0  ischemic cardiomyopathy  male       African American  65.0       33381   \n",
       "1  ischemic cardiomyopathy  male       African American  65.0       33381   \n",
       "2  ischemic cardiomyopathy  male       African American  65.0       33381   \n",
       "3  ischemic cardiomyopathy  male       African American  65.0       33381   \n",
       "4  ischemic cardiomyopathy  male       African American  65.0       33381   \n",
       "\n",
       "          Clinical History  \n",
       "0  ischemic cardiomyopathy  \n",
       "1  ischemic cardiomyopathy  \n",
       "2  ischemic cardiomyopathy  \n",
       "3  ischemic cardiomyopathy  \n",
       "4  ischemic cardiomyopathy  "
      ],
      "text/html": "<div>\n<style scoped>\n    .dataframe tbody tr th:only-of-type {\n        vertical-align: middle;\n    }\n\n    .dataframe tbody tr th {\n        vertical-align: top;\n    }\n\n    .dataframe thead th {\n        text-align: right;\n    }\n</style>\n<table border=\"1\" class=\"dataframe\">\n  <thead>\n    <tr style=\"text-align: right;\">\n      <th></th>\n      <th>Dataset Name</th>\n      <th>Image Name</th>\n      <th>Diagnosis</th>\n      <th>Disease Subtype</th>\n      <th>Sex</th>\n      <th>Ethnic or Racial Group</th>\n      <th>Age</th>\n      <th>Patient Id</th>\n      <th>Clinical History</th>\n    </tr>\n  </thead>\n  <tbody>\n    <tr>\n      <th>0</th>\n      <td>training</td>\n      <td>33381_0_fal_10_0.png</td>\n      <td>chronic heart failure</td>\n      <td>ischemic cardiomyopathy</td>\n      <td>male</td>\n      <td>African American</td>\n      <td>65.0</td>\n      <td>33381</td>\n      <td>ischemic cardiomyopathy</td>\n    </tr>\n    <tr>\n      <th>1</th>\n      <td>training</td>\n      <td>33381_0_fal_14_0.png</td>\n      <td>chronic heart failure</td>\n      <td>ischemic cardiomyopathy</td>\n      <td>male</td>\n      <td>African American</td>\n      <td>65.0</td>\n      <td>33381</td>\n      <td>ischemic cardiomyopathy</td>\n    </tr>\n    <tr>\n      <th>2</th>\n      <td>training</td>\n      <td>33381_0_fal_16_0.png</td>\n      <td>chronic heart failure</td>\n      <td>ischemic cardiomyopathy</td>\n      <td>male</td>\n      <td>African American</td>\n      <td>65.0</td>\n      <td>33381</td>\n      <td>ischemic cardiomyopathy</td>\n    </tr>\n    <tr>\n      <th>3</th>\n      <td>training</td>\n      <td>33381_0_fal_18_0.png</td>\n      <td>chronic heart failure</td>\n      <td>ischemic cardiomyopathy</td>\n      <td>male</td>\n      <td>African American</td>\n      <td>65.0</td>\n      <td>33381</td>\n      <td>ischemic cardiomyopathy</td>\n    </tr>\n    <tr>\n      <th>4</th>\n      <td>training</td>\n      <td>33381_0_fal_25_0.png</td>\n      <td>chronic heart failure</td>\n      <td>ischemic cardiomyopathy</td>\n      <td>male</td>\n      <td>African American</td>\n      <td>65.0</td>\n      <td>33381</td>\n      <td>ischemic cardiomyopathy</td>\n    </tr>\n  </tbody>\n</table>\n</div>"
     },
     "metadata": {},
     "execution_count": 156
    }
   ],
   "source": [
    "\n",
    "myset = {''}\n",
    "medical_data[\"Age\"]=medical_data[\"Age\"].apply(lambda x: float(str(x).split(\" \")[0]))\n",
    "for line in medical_data[\"Age\"]:\n",
    "    myset.add(type(line))\n",
    "print(myset)\n",
    "medical_data.head()"
   ]
  },
  {
   "cell_type": "code",
   "execution_count": 157,
   "metadata": {},
   "outputs": [
    {
     "output_type": "execute_result",
     "data": {
      "text/plain": [
       "Empty DataFrame\n",
       "Columns: [Dataset Name, Image Name, Diagnosis, Disease Subtype, Sex, Ethnic or Racial Group, Age, Patient Id, Clinical History]\n",
       "Index: []"
      ],
      "text/html": "<div>\n<style scoped>\n    .dataframe tbody tr th:only-of-type {\n        vertical-align: middle;\n    }\n\n    .dataframe tbody tr th {\n        vertical-align: top;\n    }\n\n    .dataframe thead th {\n        text-align: right;\n    }\n</style>\n<table border=\"1\" class=\"dataframe\">\n  <thead>\n    <tr style=\"text-align: right;\">\n      <th></th>\n      <th>Dataset Name</th>\n      <th>Image Name</th>\n      <th>Diagnosis</th>\n      <th>Disease Subtype</th>\n      <th>Sex</th>\n      <th>Ethnic or Racial Group</th>\n      <th>Age</th>\n      <th>Patient Id</th>\n      <th>Clinical History</th>\n    </tr>\n  </thead>\n  <tbody>\n  </tbody>\n</table>\n</div>"
     },
     "metadata": {},
     "execution_count": 157
    }
   ],
   "source": [
    "medical_data[medical_data[\"Age\"] == \"nan11\"]"
   ]
  },
  {
   "cell_type": "code",
   "execution_count": 158,
   "metadata": {},
   "outputs": [
    {
     "output_type": "execute_result",
     "data": {
      "text/plain": [
       "   Dataset Name            Image Name              Diagnosis  \\\n",
       "0      training  33381_0_fal_10_0.png  chronic heart failure   \n",
       "11     training  33382_0_fal_10_0.png  chronic heart failure   \n",
       "22     training  33383_0_fal_11_0.png  chronic heart failure   \n",
       "33     training  33385_0_fal_12_0.png  chronic heart failure   \n",
       "44     training  33387_0_fal_11_0.png  chronic heart failure   \n",
       "\n",
       "            Disease Subtype     Sex Ethnic or Racial Group   Age  Patient Id  \\\n",
       "0   ischemic cardiomyopathy    male       African American  65.0       33381   \n",
       "11  ischemic cardiomyopathy    male              Caucasian  62.0       33382   \n",
       "22  ischemic cardiomyopathy    male              Caucasian  61.0       33383   \n",
       "33  ischemic cardiomyopathy    male              Caucasian  54.0       33385   \n",
       "44  ischemic cardiomyopathy  female   Unknown racial group  65.0       33387   \n",
       "\n",
       "           Clinical History  \n",
       "0   ischemic cardiomyopathy  \n",
       "11  ischemic cardiomyopathy  \n",
       "22  ischemic cardiomyopathy  \n",
       "33  ischemic cardiomyopathy  \n",
       "44  ischemic cardiomyopathy  "
      ],
      "text/html": "<div>\n<style scoped>\n    .dataframe tbody tr th:only-of-type {\n        vertical-align: middle;\n    }\n\n    .dataframe tbody tr th {\n        vertical-align: top;\n    }\n\n    .dataframe thead th {\n        text-align: right;\n    }\n</style>\n<table border=\"1\" class=\"dataframe\">\n  <thead>\n    <tr style=\"text-align: right;\">\n      <th></th>\n      <th>Dataset Name</th>\n      <th>Image Name</th>\n      <th>Diagnosis</th>\n      <th>Disease Subtype</th>\n      <th>Sex</th>\n      <th>Ethnic or Racial Group</th>\n      <th>Age</th>\n      <th>Patient Id</th>\n      <th>Clinical History</th>\n    </tr>\n  </thead>\n  <tbody>\n    <tr>\n      <th>0</th>\n      <td>training</td>\n      <td>33381_0_fal_10_0.png</td>\n      <td>chronic heart failure</td>\n      <td>ischemic cardiomyopathy</td>\n      <td>male</td>\n      <td>African American</td>\n      <td>65.0</td>\n      <td>33381</td>\n      <td>ischemic cardiomyopathy</td>\n    </tr>\n    <tr>\n      <th>11</th>\n      <td>training</td>\n      <td>33382_0_fal_10_0.png</td>\n      <td>chronic heart failure</td>\n      <td>ischemic cardiomyopathy</td>\n      <td>male</td>\n      <td>Caucasian</td>\n      <td>62.0</td>\n      <td>33382</td>\n      <td>ischemic cardiomyopathy</td>\n    </tr>\n    <tr>\n      <th>22</th>\n      <td>training</td>\n      <td>33383_0_fal_11_0.png</td>\n      <td>chronic heart failure</td>\n      <td>ischemic cardiomyopathy</td>\n      <td>male</td>\n      <td>Caucasian</td>\n      <td>61.0</td>\n      <td>33383</td>\n      <td>ischemic cardiomyopathy</td>\n    </tr>\n    <tr>\n      <th>33</th>\n      <td>training</td>\n      <td>33385_0_fal_12_0.png</td>\n      <td>chronic heart failure</td>\n      <td>ischemic cardiomyopathy</td>\n      <td>male</td>\n      <td>Caucasian</td>\n      <td>54.0</td>\n      <td>33385</td>\n      <td>ischemic cardiomyopathy</td>\n    </tr>\n    <tr>\n      <th>44</th>\n      <td>training</td>\n      <td>33387_0_fal_11_0.png</td>\n      <td>chronic heart failure</td>\n      <td>ischemic cardiomyopathy</td>\n      <td>female</td>\n      <td>Unknown racial group</td>\n      <td>65.0</td>\n      <td>33387</td>\n      <td>ischemic cardiomyopathy</td>\n    </tr>\n  </tbody>\n</table>\n</div>"
     },
     "metadata": {},
     "execution_count": 158
    }
   ],
   "source": [
    "unique_medical_data = medical_data.drop_duplicates(subset=['Patient Id'])\n",
    "unique_medical_data.head()"
   ]
  },
  {
   "cell_type": "code",
   "execution_count": 159,
   "metadata": {},
   "outputs": [
    {
     "output_type": "stream",
     "name": "stdout",
     "text": [
      "Stored 'medical_data' (DataFrame)\nStored 'unique_medical_data' (DataFrame)\n"
     ]
    }
   ],
   "source": [
    "%store medical_data\n",
    "%store unique_medical_data"
   ]
  },
  {
   "cell_type": "code",
   "execution_count": 160,
   "metadata": {},
   "outputs": [
    {
     "output_type": "execute_result",
     "data": {
      "text/plain": [
       "0       65.0\n",
       "1       65.0\n",
       "2       65.0\n",
       "3       65.0\n",
       "4       65.0\n",
       "        ... \n",
       "2294    53.0\n",
       "2295    53.0\n",
       "2296    53.0\n",
       "2297    53.0\n",
       "2298    53.0\n",
       "Name: Age, Length: 2277, dtype: float64"
      ]
     },
     "metadata": {},
     "execution_count": 160
    }
   ],
   "source": [
    "medical_data[\"Age\"]"
   ]
  },
  {
   "cell_type": "code",
   "execution_count": null,
   "metadata": {},
   "outputs": [],
   "source": []
  }
 ]
}