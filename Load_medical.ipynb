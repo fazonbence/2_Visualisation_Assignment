{
 "metadata": {
  "language_info": {
   "codemirror_mode": {
    "name": "ipython",
    "version": 3
   },
   "file_extension": ".py",
   "mimetype": "text/x-python",
   "name": "python",
   "nbconvert_exporter": "python",
   "pygments_lexer": "ipython3",
   "version": "3.8.5-final"
  },
  "orig_nbformat": 2,
  "kernelspec": {
   "name": "python3",
   "display_name": "Python 3",
   "language": "python"
  }
 },
 "nbformat": 4,
 "nbformat_minor": 2,
 "cells": [
  {
   "cell_type": "code",
   "execution_count": 2,
   "metadata": {},
   "outputs": [],
   "source": [
    "import numpy as np\n",
    "import pandas as pd"
   ]
  },
  {
   "cell_type": "code",
   "execution_count": 15,
   "metadata": {},
   "outputs": [
    {
     "output_type": "stream",
     "name": "stdout",
     "text": [
      "Index(['Dataset Name', 'Image Name', 'Characteristics [Organism]',\n       'Term Source 1 REF', 'Term Source 1 Accession',\n       'Characteristics [Organism Part]', 'Term Source 2 REF',\n       'Term Source 2 Accession', 'Characteristics [Diagnosis]',\n       'Term Source 3 REF', 'Term Source 3 Accession',\n       'Characteristics [Disease Subtype]', 'Term Source 4 REF',\n       'Term Source 4 Accession', 'Characteristics [Sex]', 'Term Source 5 REF',\n       'Term Source 5 Accession', 'Characteristics [Ethnic or Racial Group]',\n       'Term Source 6 REF', 'Term Source 6 Accession', 'Characteristics [Age]',\n       'Characteristics [Individual]', 'Characteristics [Clinical History]',\n       'Protocol REF', 'Protocol REF.1', 'Experimental Condition [Diagnosis]',\n       'Channels'],\n      dtype='object')\n"
     ]
    }
   ],
   "source": [
    "#every data in the csv\n",
    "experiment_data = pd.read_csv(\"idr0042-experimentA-annotation.csv\")\n",
    "#experiment_data.head()\n",
    "print(experiment_data.columns)"
   ]
  },
  {
   "cell_type": "code",
   "execution_count": 14,
   "metadata": {},
   "outputs": [
    {
     "output_type": "execute_result",
     "data": {
      "text/plain": [
       "  Dataset Name            Image Name Characteristics [Diagnosis]  \\\n",
       "0     training  33381_0_fal_10_0.png       chronic heart failure   \n",
       "1     training  33381_0_fal_14_0.png       chronic heart failure   \n",
       "2     training  33381_0_fal_16_0.png       chronic heart failure   \n",
       "3     training  33381_0_fal_18_0.png       chronic heart failure   \n",
       "4     training  33381_0_fal_25_0.png       chronic heart failure   \n",
       "\n",
       "  Characteristics [Ethnic or Racial Group] Characteristics [Age]  \\\n",
       "0                         African American              65 years   \n",
       "1                         African American              65 years   \n",
       "2                         African American              65 years   \n",
       "3                         African American              65 years   \n",
       "4                         African American              65 years   \n",
       "\n",
       "  Characteristics [Clinical History] Experimental Condition [Diagnosis]  \n",
       "0            ischemic cardiomyopathy              chronic heart failure  \n",
       "1            ischemic cardiomyopathy              chronic heart failure  \n",
       "2            ischemic cardiomyopathy              chronic heart failure  \n",
       "3            ischemic cardiomyopathy              chronic heart failure  \n",
       "4            ischemic cardiomyopathy              chronic heart failure  "
      ],
      "text/html": "<div>\n<style scoped>\n    .dataframe tbody tr th:only-of-type {\n        vertical-align: middle;\n    }\n\n    .dataframe tbody tr th {\n        vertical-align: top;\n    }\n\n    .dataframe thead th {\n        text-align: right;\n    }\n</style>\n<table border=\"1\" class=\"dataframe\">\n  <thead>\n    <tr style=\"text-align: right;\">\n      <th></th>\n      <th>Dataset Name</th>\n      <th>Image Name</th>\n      <th>Characteristics [Diagnosis]</th>\n      <th>Characteristics [Ethnic or Racial Group]</th>\n      <th>Characteristics [Age]</th>\n      <th>Characteristics [Clinical History]</th>\n      <th>Experimental Condition [Diagnosis]</th>\n    </tr>\n  </thead>\n  <tbody>\n    <tr>\n      <th>0</th>\n      <td>training</td>\n      <td>33381_0_fal_10_0.png</td>\n      <td>chronic heart failure</td>\n      <td>African American</td>\n      <td>65 years</td>\n      <td>ischemic cardiomyopathy</td>\n      <td>chronic heart failure</td>\n    </tr>\n    <tr>\n      <th>1</th>\n      <td>training</td>\n      <td>33381_0_fal_14_0.png</td>\n      <td>chronic heart failure</td>\n      <td>African American</td>\n      <td>65 years</td>\n      <td>ischemic cardiomyopathy</td>\n      <td>chronic heart failure</td>\n    </tr>\n    <tr>\n      <th>2</th>\n      <td>training</td>\n      <td>33381_0_fal_16_0.png</td>\n      <td>chronic heart failure</td>\n      <td>African American</td>\n      <td>65 years</td>\n      <td>ischemic cardiomyopathy</td>\n      <td>chronic heart failure</td>\n    </tr>\n    <tr>\n      <th>3</th>\n      <td>training</td>\n      <td>33381_0_fal_18_0.png</td>\n      <td>chronic heart failure</td>\n      <td>African American</td>\n      <td>65 years</td>\n      <td>ischemic cardiomyopathy</td>\n      <td>chronic heart failure</td>\n    </tr>\n    <tr>\n      <th>4</th>\n      <td>training</td>\n      <td>33381_0_fal_25_0.png</td>\n      <td>chronic heart failure</td>\n      <td>African American</td>\n      <td>65 years</td>\n      <td>ischemic cardiomyopathy</td>\n      <td>chronic heart failure</td>\n    </tr>\n  </tbody>\n</table>\n</div>"
     },
     "metadata": {},
     "execution_count": 14
    }
   ],
   "source": [
    "#only useful features\n",
    "medical_data = experiment_data[[\"Dataset Name\", \"Image Name\", \"Characteristics [Diagnosis]\", \"Characteristics [Disease Subtype]\", \"Characteristics [Ethnic or Racial Group]\", \"Characteristics [Age]\", \"Characteristics [Clinical History]\", \"Experimental Condition [Diagnosis]\"]]\n",
    "medical_data.head()"
   ]
  },
  {
   "cell_type": "code",
   "execution_count": null,
   "metadata": {},
   "outputs": [],
   "source": []
  }
 ]
}