{
 "cells": [
  {
   "cell_type": "code",
   "execution_count": 2,
   "metadata": {},
   "outputs": [],
   "source": [
    "import numpy as np\n",
    "import pandas as pd"
   ]
  },
  {
   "cell_type": "code",
   "execution_count": 3,
   "metadata": {},
   "outputs": [
    {
     "output_type": "execute_result",
     "data": {
      "text/plain": [
       "  Dataset Name            Image Name Characteristics [Organism]  \\\n",
       "0     training  33381_0_fal_10_0.png               Homo sapiens   \n",
       "1     training  33381_0_fal_14_0.png               Homo sapiens   \n",
       "2     training  33381_0_fal_16_0.png               Homo sapiens   \n",
       "3     training  33381_0_fal_18_0.png               Homo sapiens   \n",
       "4     training  33381_0_fal_25_0.png               Homo sapiens   \n",
       "\n",
       "  Term Source 1 REF Term Source 1 Accession Characteristics [Organism Part]  \\\n",
       "0         NCBITaxon          NCBITaxon_9606                           heart   \n",
       "1         NCBITaxon          NCBITaxon_9606                           heart   \n",
       "2         NCBITaxon          NCBITaxon_9606                           heart   \n",
       "3         NCBITaxon          NCBITaxon_9606                           heart   \n",
       "4         NCBITaxon          NCBITaxon_9606                           heart   \n",
       "\n",
       "  Term Source 2 REF Term Source 2 Accession Characteristics [Diagnosis]  \\\n",
       "0            UBERON          UBERON_0000948       chronic heart failure   \n",
       "1            UBERON          UBERON_0000948       chronic heart failure   \n",
       "2            UBERON          UBERON_0000948       chronic heart failure   \n",
       "3            UBERON          UBERON_0000948       chronic heart failure   \n",
       "4            UBERON          UBERON_0000948       chronic heart failure   \n",
       "\n",
       "  Term Source 3 REF  ... Characteristics [Ethnic or Racial Group]  \\\n",
       "0            SNOMED  ...                         African American   \n",
       "1            SNOMED  ...                         African American   \n",
       "2            SNOMED  ...                         African American   \n",
       "3            SNOMED  ...                         African American   \n",
       "4            SNOMED  ...                         African American   \n",
       "\n",
       "  Term Source 6 REF Term Source 6 Accession Characteristics [Age]  \\\n",
       "0            SNOMED          SNOMED_S-62310              65 years   \n",
       "1            SNOMED          SNOMED_S-62310              65 years   \n",
       "2            SNOMED          SNOMED_S-62310              65 years   \n",
       "3            SNOMED          SNOMED_S-62310              65 years   \n",
       "4            SNOMED          SNOMED_S-62310              65 years   \n",
       "\n",
       "  Characteristics [Individual] Characteristics [Clinical History]  \\\n",
       "0                        33381            ischemic cardiomyopathy   \n",
       "1                        33381            ischemic cardiomyopathy   \n",
       "2                        33381            ischemic cardiomyopathy   \n",
       "3                        33381            ischemic cardiomyopathy   \n",
       "4                        33381            ischemic cardiomyopathy   \n",
       "\n",
       "         Protocol REF     Protocol REF.1 Experimental Condition [Diagnosis]  \\\n",
       "0  treatment protocol  image acquisition              chronic heart failure   \n",
       "1  treatment protocol  image acquisition              chronic heart failure   \n",
       "2  treatment protocol  image acquisition              chronic heart failure   \n",
       "3  treatment protocol  image acquisition              chronic heart failure   \n",
       "4  treatment protocol  image acquisition              chronic heart failure   \n",
       "\n",
       "  Channels  \n",
       "0      RGB  \n",
       "1      RGB  \n",
       "2      RGB  \n",
       "3      RGB  \n",
       "4      RGB  \n",
       "\n",
       "[5 rows x 27 columns]"
      ],
      "text/html": "<div>\n<style scoped>\n    .dataframe tbody tr th:only-of-type {\n        vertical-align: middle;\n    }\n\n    .dataframe tbody tr th {\n        vertical-align: top;\n    }\n\n    .dataframe thead th {\n        text-align: right;\n    }\n</style>\n<table border=\"1\" class=\"dataframe\">\n  <thead>\n    <tr style=\"text-align: right;\">\n      <th></th>\n      <th>Dataset Name</th>\n      <th>Image Name</th>\n      <th>Characteristics [Organism]</th>\n      <th>Term Source 1 REF</th>\n      <th>Term Source 1 Accession</th>\n      <th>Characteristics [Organism Part]</th>\n      <th>Term Source 2 REF</th>\n      <th>Term Source 2 Accession</th>\n      <th>Characteristics [Diagnosis]</th>\n      <th>Term Source 3 REF</th>\n      <th>...</th>\n      <th>Characteristics [Ethnic or Racial Group]</th>\n      <th>Term Source 6 REF</th>\n      <th>Term Source 6 Accession</th>\n      <th>Characteristics [Age]</th>\n      <th>Characteristics [Individual]</th>\n      <th>Characteristics [Clinical History]</th>\n      <th>Protocol REF</th>\n      <th>Protocol REF.1</th>\n      <th>Experimental Condition [Diagnosis]</th>\n      <th>Channels</th>\n    </tr>\n  </thead>\n  <tbody>\n    <tr>\n      <th>0</th>\n      <td>training</td>\n      <td>33381_0_fal_10_0.png</td>\n      <td>Homo sapiens</td>\n      <td>NCBITaxon</td>\n      <td>NCBITaxon_9606</td>\n      <td>heart</td>\n      <td>UBERON</td>\n      <td>UBERON_0000948</td>\n      <td>chronic heart failure</td>\n      <td>SNOMED</td>\n      <td>...</td>\n      <td>African American</td>\n      <td>SNOMED</td>\n      <td>SNOMED_S-62310</td>\n      <td>65 years</td>\n      <td>33381</td>\n      <td>ischemic cardiomyopathy</td>\n      <td>treatment protocol</td>\n      <td>image acquisition</td>\n      <td>chronic heart failure</td>\n      <td>RGB</td>\n    </tr>\n    <tr>\n      <th>1</th>\n      <td>training</td>\n      <td>33381_0_fal_14_0.png</td>\n      <td>Homo sapiens</td>\n      <td>NCBITaxon</td>\n      <td>NCBITaxon_9606</td>\n      <td>heart</td>\n      <td>UBERON</td>\n      <td>UBERON_0000948</td>\n      <td>chronic heart failure</td>\n      <td>SNOMED</td>\n      <td>...</td>\n      <td>African American</td>\n      <td>SNOMED</td>\n      <td>SNOMED_S-62310</td>\n      <td>65 years</td>\n      <td>33381</td>\n      <td>ischemic cardiomyopathy</td>\n      <td>treatment protocol</td>\n      <td>image acquisition</td>\n      <td>chronic heart failure</td>\n      <td>RGB</td>\n    </tr>\n    <tr>\n      <th>2</th>\n      <td>training</td>\n      <td>33381_0_fal_16_0.png</td>\n      <td>Homo sapiens</td>\n      <td>NCBITaxon</td>\n      <td>NCBITaxon_9606</td>\n      <td>heart</td>\n      <td>UBERON</td>\n      <td>UBERON_0000948</td>\n      <td>chronic heart failure</td>\n      <td>SNOMED</td>\n      <td>...</td>\n      <td>African American</td>\n      <td>SNOMED</td>\n      <td>SNOMED_S-62310</td>\n      <td>65 years</td>\n      <td>33381</td>\n      <td>ischemic cardiomyopathy</td>\n      <td>treatment protocol</td>\n      <td>image acquisition</td>\n      <td>chronic heart failure</td>\n      <td>RGB</td>\n    </tr>\n    <tr>\n      <th>3</th>\n      <td>training</td>\n      <td>33381_0_fal_18_0.png</td>\n      <td>Homo sapiens</td>\n      <td>NCBITaxon</td>\n      <td>NCBITaxon_9606</td>\n      <td>heart</td>\n      <td>UBERON</td>\n      <td>UBERON_0000948</td>\n      <td>chronic heart failure</td>\n      <td>SNOMED</td>\n      <td>...</td>\n      <td>African American</td>\n      <td>SNOMED</td>\n      <td>SNOMED_S-62310</td>\n      <td>65 years</td>\n      <td>33381</td>\n      <td>ischemic cardiomyopathy</td>\n      <td>treatment protocol</td>\n      <td>image acquisition</td>\n      <td>chronic heart failure</td>\n      <td>RGB</td>\n    </tr>\n    <tr>\n      <th>4</th>\n      <td>training</td>\n      <td>33381_0_fal_25_0.png</td>\n      <td>Homo sapiens</td>\n      <td>NCBITaxon</td>\n      <td>NCBITaxon_9606</td>\n      <td>heart</td>\n      <td>UBERON</td>\n      <td>UBERON_0000948</td>\n      <td>chronic heart failure</td>\n      <td>SNOMED</td>\n      <td>...</td>\n      <td>African American</td>\n      <td>SNOMED</td>\n      <td>SNOMED_S-62310</td>\n      <td>65 years</td>\n      <td>33381</td>\n      <td>ischemic cardiomyopathy</td>\n      <td>treatment protocol</td>\n      <td>image acquisition</td>\n      <td>chronic heart failure</td>\n      <td>RGB</td>\n    </tr>\n  </tbody>\n</table>\n<p>5 rows × 27 columns</p>\n</div>"
     },
     "metadata": {},
     "execution_count": 3
    }
   ],
   "source": [
    "experiment_data = pd.read_csv(\"idr0042-experimentA-annotation.csv\")\n",
    "experiment_data.head()"
   ]
  },
  {
   "cell_type": "code",
   "execution_count": 4,
   "metadata": {},
   "outputs": [
    {
     "output_type": "execute_result",
     "data": {
      "text/plain": [
       "  Dataset Name            Image Name              Diagnosis  \\\n",
       "0     training  33381_0_fal_10_0.png  chronic heart failure   \n",
       "1     training  33381_0_fal_14_0.png  chronic heart failure   \n",
       "2     training  33381_0_fal_16_0.png  chronic heart failure   \n",
       "3     training  33381_0_fal_18_0.png  chronic heart failure   \n",
       "4     training  33381_0_fal_25_0.png  chronic heart failure   \n",
       "\n",
       "           Disease Subtype   Sex Ethnic or Racial Group       Age  Patient Id  \\\n",
       "0  ischemic cardiomyopathy  male       African American  65 years       33381   \n",
       "1  ischemic cardiomyopathy  male       African American  65 years       33381   \n",
       "2  ischemic cardiomyopathy  male       African American  65 years       33381   \n",
       "3  ischemic cardiomyopathy  male       African American  65 years       33381   \n",
       "4  ischemic cardiomyopathy  male       African American  65 years       33381   \n",
       "\n",
       "          Clinical History  \n",
       "0  ischemic cardiomyopathy  \n",
       "1  ischemic cardiomyopathy  \n",
       "2  ischemic cardiomyopathy  \n",
       "3  ischemic cardiomyopathy  \n",
       "4  ischemic cardiomyopathy  "
      ],
      "text/html": "<div>\n<style scoped>\n    .dataframe tbody tr th:only-of-type {\n        vertical-align: middle;\n    }\n\n    .dataframe tbody tr th {\n        vertical-align: top;\n    }\n\n    .dataframe thead th {\n        text-align: right;\n    }\n</style>\n<table border=\"1\" class=\"dataframe\">\n  <thead>\n    <tr style=\"text-align: right;\">\n      <th></th>\n      <th>Dataset Name</th>\n      <th>Image Name</th>\n      <th>Diagnosis</th>\n      <th>Disease Subtype</th>\n      <th>Sex</th>\n      <th>Ethnic or Racial Group</th>\n      <th>Age</th>\n      <th>Patient Id</th>\n      <th>Clinical History</th>\n    </tr>\n  </thead>\n  <tbody>\n    <tr>\n      <th>0</th>\n      <td>training</td>\n      <td>33381_0_fal_10_0.png</td>\n      <td>chronic heart failure</td>\n      <td>ischemic cardiomyopathy</td>\n      <td>male</td>\n      <td>African American</td>\n      <td>65 years</td>\n      <td>33381</td>\n      <td>ischemic cardiomyopathy</td>\n    </tr>\n    <tr>\n      <th>1</th>\n      <td>training</td>\n      <td>33381_0_fal_14_0.png</td>\n      <td>chronic heart failure</td>\n      <td>ischemic cardiomyopathy</td>\n      <td>male</td>\n      <td>African American</td>\n      <td>65 years</td>\n      <td>33381</td>\n      <td>ischemic cardiomyopathy</td>\n    </tr>\n    <tr>\n      <th>2</th>\n      <td>training</td>\n      <td>33381_0_fal_16_0.png</td>\n      <td>chronic heart failure</td>\n      <td>ischemic cardiomyopathy</td>\n      <td>male</td>\n      <td>African American</td>\n      <td>65 years</td>\n      <td>33381</td>\n      <td>ischemic cardiomyopathy</td>\n    </tr>\n    <tr>\n      <th>3</th>\n      <td>training</td>\n      <td>33381_0_fal_18_0.png</td>\n      <td>chronic heart failure</td>\n      <td>ischemic cardiomyopathy</td>\n      <td>male</td>\n      <td>African American</td>\n      <td>65 years</td>\n      <td>33381</td>\n      <td>ischemic cardiomyopathy</td>\n    </tr>\n    <tr>\n      <th>4</th>\n      <td>training</td>\n      <td>33381_0_fal_25_0.png</td>\n      <td>chronic heart failure</td>\n      <td>ischemic cardiomyopathy</td>\n      <td>male</td>\n      <td>African American</td>\n      <td>65 years</td>\n      <td>33381</td>\n      <td>ischemic cardiomyopathy</td>\n    </tr>\n  </tbody>\n</table>\n</div>"
     },
     "metadata": {},
     "execution_count": 4
    }
   ],
   "source": [
    "# only needed features, with better columnnames\n",
    "medical_data = experiment_data[\n",
    "    [\n",
    "        \"Dataset Name\",\n",
    "        \"Image Name\",\n",
    "        \"Characteristics [Diagnosis]\",\n",
    "        \"Characteristics [Disease Subtype]\",\n",
    "        \"Characteristics [Sex]\",\n",
    "        \"Characteristics [Ethnic or Racial Group]\",\n",
    "        \"Characteristics [Age]\",\n",
    "        \"Characteristics [Individual]\",\n",
    "        \"Characteristics [Clinical History]\",\n",
    "    ]\n",
    "]\n",
    "\n",
    "medical_data = medical_data.rename(\n",
    "    columns={\n",
    "        \"Characteristics [Diagnosis]\": \"Diagnosis\",\n",
    "        \"Characteristics [Disease Subtype]\": \"Disease Subtype\",\n",
    "        \"Characteristics [Sex]\": \"Sex\",\n",
    "        \"Characteristics [Ethnic or Racial Group]\": \"Ethnic or Racial Group\",\n",
    "        \"Characteristics [Age]\": \"Age\",\n",
    "        \"Characteristics [Individual]\": \"Patient Id\",\n",
    "        \"Characteristics [Clinical History]\": \"Clinical History\",\n",
    "    }\n",
    ")\n",
    "medical_data.head()"
   ]
  },
  {
   "cell_type": "code",
   "execution_count": 7,
   "metadata": {},
   "outputs": [
    {
     "output_type": "execute_result",
     "data": {
      "text/plain": [
       "     Dataset Name            Image Name                  Diagnosis  \\\n",
       "0        training  33381_0_fal_10_0.png      chronic heart failure   \n",
       "1        training  33381_0_fal_14_0.png      chronic heart failure   \n",
       "2        training  33381_0_fal_16_0.png      chronic heart failure   \n",
       "3        training  33381_0_fal_18_0.png      chronic heart failure   \n",
       "4        training  33381_0_fal_25_0.png      chronic heart failure   \n",
       "...           ...                   ...                        ...   \n",
       "2294         test  36175_1_nrm_18_0.png  not chronic heart failure   \n",
       "2295         test   36175_1_nrm_1_0.png  not chronic heart failure   \n",
       "2296         test  36175_1_nrm_20_0.png  not chronic heart failure   \n",
       "2297         test  36175_1_nrm_21_0.png  not chronic heart failure   \n",
       "2298         test   36175_1_nrm_2_0.png  not chronic heart failure   \n",
       "\n",
       "              Disease Subtype     Sex Ethnic or Racial Group       Age  \\\n",
       "0     ischemic cardiomyopathy    male       African American  65 years   \n",
       "1     ischemic cardiomyopathy    male       African American  65 years   \n",
       "2     ischemic cardiomyopathy    male       African American  65 years   \n",
       "3     ischemic cardiomyopathy    male       African American  65 years   \n",
       "4     ischemic cardiomyopathy    male       African American  65 years   \n",
       "...                       ...     ...                    ...       ...   \n",
       "2294                      NaN  female              Caucasian  53 years   \n",
       "2295                      NaN  female              Caucasian  53 years   \n",
       "2296                      NaN  female              Caucasian  53 years   \n",
       "2297                      NaN  female              Caucasian  53 years   \n",
       "2298                      NaN  female              Caucasian  53 years   \n",
       "\n",
       "      Patient Id                                   Clinical History  \n",
       "0          33381                            ischemic cardiomyopathy  \n",
       "1          33381                            ischemic cardiomyopathy  \n",
       "2          33381                            ischemic cardiomyopathy  \n",
       "3          33381                            ischemic cardiomyopathy  \n",
       "4          33381                            ischemic cardiomyopathy  \n",
       "...          ...                                                ...  \n",
       "2294       36175  normal cardiovascular function by cardiac cath...  \n",
       "2295       36175  normal cardiovascular function by cardiac cath...  \n",
       "2296       36175  normal cardiovascular function by cardiac cath...  \n",
       "2297       36175  normal cardiovascular function by cardiac cath...  \n",
       "2298       36175  normal cardiovascular function by cardiac cath...  \n",
       "\n",
       "[2299 rows x 9 columns]"
      ],
      "text/html": "<div>\n<style scoped>\n    .dataframe tbody tr th:only-of-type {\n        vertical-align: middle;\n    }\n\n    .dataframe tbody tr th {\n        vertical-align: top;\n    }\n\n    .dataframe thead th {\n        text-align: right;\n    }\n</style>\n<table border=\"1\" class=\"dataframe\">\n  <thead>\n    <tr style=\"text-align: right;\">\n      <th></th>\n      <th>Dataset Name</th>\n      <th>Image Name</th>\n      <th>Diagnosis</th>\n      <th>Disease Subtype</th>\n      <th>Sex</th>\n      <th>Ethnic or Racial Group</th>\n      <th>Age</th>\n      <th>Patient Id</th>\n      <th>Clinical History</th>\n    </tr>\n  </thead>\n  <tbody>\n    <tr>\n      <th>0</th>\n      <td>training</td>\n      <td>33381_0_fal_10_0.png</td>\n      <td>chronic heart failure</td>\n      <td>ischemic cardiomyopathy</td>\n      <td>male</td>\n      <td>African American</td>\n      <td>65 years</td>\n      <td>33381</td>\n      <td>ischemic cardiomyopathy</td>\n    </tr>\n    <tr>\n      <th>1</th>\n      <td>training</td>\n      <td>33381_0_fal_14_0.png</td>\n      <td>chronic heart failure</td>\n      <td>ischemic cardiomyopathy</td>\n      <td>male</td>\n      <td>African American</td>\n      <td>65 years</td>\n      <td>33381</td>\n      <td>ischemic cardiomyopathy</td>\n    </tr>\n    <tr>\n      <th>2</th>\n      <td>training</td>\n      <td>33381_0_fal_16_0.png</td>\n      <td>chronic heart failure</td>\n      <td>ischemic cardiomyopathy</td>\n      <td>male</td>\n      <td>African American</td>\n      <td>65 years</td>\n      <td>33381</td>\n      <td>ischemic cardiomyopathy</td>\n    </tr>\n    <tr>\n      <th>3</th>\n      <td>training</td>\n      <td>33381_0_fal_18_0.png</td>\n      <td>chronic heart failure</td>\n      <td>ischemic cardiomyopathy</td>\n      <td>male</td>\n      <td>African American</td>\n      <td>65 years</td>\n      <td>33381</td>\n      <td>ischemic cardiomyopathy</td>\n    </tr>\n    <tr>\n      <th>4</th>\n      <td>training</td>\n      <td>33381_0_fal_25_0.png</td>\n      <td>chronic heart failure</td>\n      <td>ischemic cardiomyopathy</td>\n      <td>male</td>\n      <td>African American</td>\n      <td>65 years</td>\n      <td>33381</td>\n      <td>ischemic cardiomyopathy</td>\n    </tr>\n    <tr>\n      <th>...</th>\n      <td>...</td>\n      <td>...</td>\n      <td>...</td>\n      <td>...</td>\n      <td>...</td>\n      <td>...</td>\n      <td>...</td>\n      <td>...</td>\n      <td>...</td>\n    </tr>\n    <tr>\n      <th>2294</th>\n      <td>test</td>\n      <td>36175_1_nrm_18_0.png</td>\n      <td>not chronic heart failure</td>\n      <td>NaN</td>\n      <td>female</td>\n      <td>Caucasian</td>\n      <td>53 years</td>\n      <td>36175</td>\n      <td>normal cardiovascular function by cardiac cath...</td>\n    </tr>\n    <tr>\n      <th>2295</th>\n      <td>test</td>\n      <td>36175_1_nrm_1_0.png</td>\n      <td>not chronic heart failure</td>\n      <td>NaN</td>\n      <td>female</td>\n      <td>Caucasian</td>\n      <td>53 years</td>\n      <td>36175</td>\n      <td>normal cardiovascular function by cardiac cath...</td>\n    </tr>\n    <tr>\n      <th>2296</th>\n      <td>test</td>\n      <td>36175_1_nrm_20_0.png</td>\n      <td>not chronic heart failure</td>\n      <td>NaN</td>\n      <td>female</td>\n      <td>Caucasian</td>\n      <td>53 years</td>\n      <td>36175</td>\n      <td>normal cardiovascular function by cardiac cath...</td>\n    </tr>\n    <tr>\n      <th>2297</th>\n      <td>test</td>\n      <td>36175_1_nrm_21_0.png</td>\n      <td>not chronic heart failure</td>\n      <td>NaN</td>\n      <td>female</td>\n      <td>Caucasian</td>\n      <td>53 years</td>\n      <td>36175</td>\n      <td>normal cardiovascular function by cardiac cath...</td>\n    </tr>\n    <tr>\n      <th>2298</th>\n      <td>test</td>\n      <td>36175_1_nrm_2_0.png</td>\n      <td>not chronic heart failure</td>\n      <td>NaN</td>\n      <td>female</td>\n      <td>Caucasian</td>\n      <td>53 years</td>\n      <td>36175</td>\n      <td>normal cardiovascular function by cardiac cath...</td>\n    </tr>\n  </tbody>\n</table>\n<p>2299 rows × 9 columns</p>\n</div>"
     },
     "metadata": {},
     "execution_count": 7
    }
   ],
   "source": [
    "medical_data"
   ]
  },
  {
   "cell_type": "code",
   "execution_count": 8,
   "metadata": {},
   "outputs": [],
   "source": [
    "medical_data.dropna(subset=[\"Age\", \"Sex\"], inplace=True)"
   ]
  },
  {
   "cell_type": "code",
   "execution_count": 12,
   "metadata": {},
   "outputs": [],
   "source": [
    "medical_data[\"Age\"] = medical_data[\"Age\"].apply(lambda x: x.split(\" \")[0]).astype(int)"
   ]
  },
  {
   "cell_type": "code",
   "execution_count": 14,
   "metadata": {},
   "outputs": [
    {
     "output_type": "execute_result",
     "data": {
      "text/plain": [
       "   Dataset Name            Image Name              Diagnosis  \\\n",
       "0      training  33381_0_fal_10_0.png  chronic heart failure   \n",
       "11     training  33382_0_fal_10_0.png  chronic heart failure   \n",
       "22     training  33383_0_fal_11_0.png  chronic heart failure   \n",
       "33     training  33385_0_fal_12_0.png  chronic heart failure   \n",
       "44     training  33387_0_fal_11_0.png  chronic heart failure   \n",
       "\n",
       "            Disease Subtype     Sex Ethnic or Racial Group  Age  Patient Id  \\\n",
       "0   ischemic cardiomyopathy    male       African American   65       33381   \n",
       "11  ischemic cardiomyopathy    male              Caucasian   62       33382   \n",
       "22  ischemic cardiomyopathy    male              Caucasian   61       33383   \n",
       "33  ischemic cardiomyopathy    male              Caucasian   54       33385   \n",
       "44  ischemic cardiomyopathy  female   Unknown racial group   65       33387   \n",
       "\n",
       "           Clinical History  \n",
       "0   ischemic cardiomyopathy  \n",
       "11  ischemic cardiomyopathy  \n",
       "22  ischemic cardiomyopathy  \n",
       "33  ischemic cardiomyopathy  \n",
       "44  ischemic cardiomyopathy  "
      ],
      "text/html": "<div>\n<style scoped>\n    .dataframe tbody tr th:only-of-type {\n        vertical-align: middle;\n    }\n\n    .dataframe tbody tr th {\n        vertical-align: top;\n    }\n\n    .dataframe thead th {\n        text-align: right;\n    }\n</style>\n<table border=\"1\" class=\"dataframe\">\n  <thead>\n    <tr style=\"text-align: right;\">\n      <th></th>\n      <th>Dataset Name</th>\n      <th>Image Name</th>\n      <th>Diagnosis</th>\n      <th>Disease Subtype</th>\n      <th>Sex</th>\n      <th>Ethnic or Racial Group</th>\n      <th>Age</th>\n      <th>Patient Id</th>\n      <th>Clinical History</th>\n    </tr>\n  </thead>\n  <tbody>\n    <tr>\n      <th>0</th>\n      <td>training</td>\n      <td>33381_0_fal_10_0.png</td>\n      <td>chronic heart failure</td>\n      <td>ischemic cardiomyopathy</td>\n      <td>male</td>\n      <td>African American</td>\n      <td>65</td>\n      <td>33381</td>\n      <td>ischemic cardiomyopathy</td>\n    </tr>\n    <tr>\n      <th>11</th>\n      <td>training</td>\n      <td>33382_0_fal_10_0.png</td>\n      <td>chronic heart failure</td>\n      <td>ischemic cardiomyopathy</td>\n      <td>male</td>\n      <td>Caucasian</td>\n      <td>62</td>\n      <td>33382</td>\n      <td>ischemic cardiomyopathy</td>\n    </tr>\n    <tr>\n      <th>22</th>\n      <td>training</td>\n      <td>33383_0_fal_11_0.png</td>\n      <td>chronic heart failure</td>\n      <td>ischemic cardiomyopathy</td>\n      <td>male</td>\n      <td>Caucasian</td>\n      <td>61</td>\n      <td>33383</td>\n      <td>ischemic cardiomyopathy</td>\n    </tr>\n    <tr>\n      <th>33</th>\n      <td>training</td>\n      <td>33385_0_fal_12_0.png</td>\n      <td>chronic heart failure</td>\n      <td>ischemic cardiomyopathy</td>\n      <td>male</td>\n      <td>Caucasian</td>\n      <td>54</td>\n      <td>33385</td>\n      <td>ischemic cardiomyopathy</td>\n    </tr>\n    <tr>\n      <th>44</th>\n      <td>training</td>\n      <td>33387_0_fal_11_0.png</td>\n      <td>chronic heart failure</td>\n      <td>ischemic cardiomyopathy</td>\n      <td>female</td>\n      <td>Unknown racial group</td>\n      <td>65</td>\n      <td>33387</td>\n      <td>ischemic cardiomyopathy</td>\n    </tr>\n  </tbody>\n</table>\n</div>"
     },
     "metadata": {},
     "execution_count": 14
    }
   ],
   "source": [
    "unique_medical_data = medical_data.drop_duplicates(subset=[\"Patient Id\"])\n",
    "unique_medical_data.head()"
   ]
  },
  {
   "cell_type": "code",
   "execution_count": 15,
   "metadata": {},
   "outputs": [
    {
     "output_type": "stream",
     "name": "stdout",
     "text": [
      "Stored 'medical_data' (DataFrame)\nStored 'unique_medical_data' (DataFrame)\n"
     ]
    }
   ],
   "source": [
    "%store medical_data\n",
    "%store unique_medical_data"
   ]
  },
  {
   "cell_type": "code",
   "execution_count": 16,
   "metadata": {},
   "outputs": [],
   "source": [
    "# load UMAP embeddings\n",
    "train_embedding = np.load(\"train_embedding.npy\")\n",
    "test_embedding = np.load(\"test_embedding.npy\")"
   ]
  },
  {
   "cell_type": "code",
   "execution_count": 17,
   "metadata": {},
   "outputs": [],
   "source": [
    "features_train = pd.read_csv(\"features/features_train_clean.csv\")\n",
    "features_test = pd.read_csv(\"features/features_test_clean.csv\")"
   ]
  },
  {
   "cell_type": "code",
   "execution_count": 19,
   "metadata": {},
   "outputs": [],
   "source": [
    "train_embedding_df = pd.DataFrame(train_embedding, columns=['x','y'])\n",
    "test_embedding_df = pd.DataFrame(test_embedding, columns=['x','y'])"
   ]
  },
  {
   "cell_type": "code",
   "execution_count": 20,
   "metadata": {},
   "outputs": [],
   "source": [
    "train_embedding_filename = pd.concat([features_train[['filename']], train_embedding_df], axis=1)\n",
    "test_embedding_filename = pd.concat([features_test[['filename']], test_embedding_df], axis=1)"
   ]
  },
  {
   "cell_type": "code",
   "execution_count": 22,
   "metadata": {},
   "outputs": [],
   "source": [
    "train_embedding_filename['filename'] = train_embedding_filename['filename'].apply(lambda x: x.split('/')[1])\n",
    "test_embedding_filename['filename'] = test_embedding_filename['filename'].apply(lambda x: x.split('/')[1])"
   ]
  },
  {
   "cell_type": "code",
   "execution_count": 23,
   "metadata": {},
   "outputs": [
    {
     "output_type": "execute_result",
     "data": {
      "text/plain": [
       "                  filename          x          y\n",
       "0     33544_0_fal_12_0.png  17.328356   6.890578\n",
       "1     33544_0_fal_17_0.png  14.834268  11.516161\n",
       "2     33544_0_fal_18_0.png  15.553170  11.326067\n",
       "3     33544_0_fal_10_0.png  17.477880   6.740102\n",
       "4     33544_0_fal_13_0.png  15.518093   7.284802\n",
       "...                    ...        ...        ...\n",
       "1819  33542_0_fal_16_0.png  17.150949   7.900688\n",
       "1820  33542_0_fal_14_0.png  16.632141   6.604039\n",
       "1821   33542_0_fal_1_0.png  17.397873   6.682190\n",
       "1822  33542_0_fal_10_0.png  16.612770   6.601458\n",
       "1823  33542_0_fal_18_0.png  16.827534   8.645586\n",
       "\n",
       "[1824 rows x 3 columns]"
      ],
      "text/html": "<div>\n<style scoped>\n    .dataframe tbody tr th:only-of-type {\n        vertical-align: middle;\n    }\n\n    .dataframe tbody tr th {\n        vertical-align: top;\n    }\n\n    .dataframe thead th {\n        text-align: right;\n    }\n</style>\n<table border=\"1\" class=\"dataframe\">\n  <thead>\n    <tr style=\"text-align: right;\">\n      <th></th>\n      <th>filename</th>\n      <th>x</th>\n      <th>y</th>\n    </tr>\n  </thead>\n  <tbody>\n    <tr>\n      <th>0</th>\n      <td>33544_0_fal_12_0.png</td>\n      <td>17.328356</td>\n      <td>6.890578</td>\n    </tr>\n    <tr>\n      <th>1</th>\n      <td>33544_0_fal_17_0.png</td>\n      <td>14.834268</td>\n      <td>11.516161</td>\n    </tr>\n    <tr>\n      <th>2</th>\n      <td>33544_0_fal_18_0.png</td>\n      <td>15.553170</td>\n      <td>11.326067</td>\n    </tr>\n    <tr>\n      <th>3</th>\n      <td>33544_0_fal_10_0.png</td>\n      <td>17.477880</td>\n      <td>6.740102</td>\n    </tr>\n    <tr>\n      <th>4</th>\n      <td>33544_0_fal_13_0.png</td>\n      <td>15.518093</td>\n      <td>7.284802</td>\n    </tr>\n    <tr>\n      <th>...</th>\n      <td>...</td>\n      <td>...</td>\n      <td>...</td>\n    </tr>\n    <tr>\n      <th>1819</th>\n      <td>33542_0_fal_16_0.png</td>\n      <td>17.150949</td>\n      <td>7.900688</td>\n    </tr>\n    <tr>\n      <th>1820</th>\n      <td>33542_0_fal_14_0.png</td>\n      <td>16.632141</td>\n      <td>6.604039</td>\n    </tr>\n    <tr>\n      <th>1821</th>\n      <td>33542_0_fal_1_0.png</td>\n      <td>17.397873</td>\n      <td>6.682190</td>\n    </tr>\n    <tr>\n      <th>1822</th>\n      <td>33542_0_fal_10_0.png</td>\n      <td>16.612770</td>\n      <td>6.601458</td>\n    </tr>\n    <tr>\n      <th>1823</th>\n      <td>33542_0_fal_18_0.png</td>\n      <td>16.827534</td>\n      <td>8.645586</td>\n    </tr>\n  </tbody>\n</table>\n<p>1824 rows × 3 columns</p>\n</div>"
     },
     "metadata": {},
     "execution_count": 23
    }
   ],
   "source": [
    "train_embedding_filename"
   ]
  },
  {
   "cell_type": "code",
   "execution_count": 24,
   "metadata": {},
   "outputs": [],
   "source": [
    "train_test_embedding_filename = pd.concat([train_embedding_filename, test_embedding_filename])"
   ]
  },
  {
   "cell_type": "code",
   "execution_count": 25,
   "metadata": {},
   "outputs": [
    {
     "output_type": "execute_result",
     "data": {
      "text/plain": [
       "                 filename          x          y\n",
       "0    33544_0_fal_12_0.png  17.328356   6.890578\n",
       "1    33544_0_fal_17_0.png  14.834268  11.516161\n",
       "2    33544_0_fal_18_0.png  15.553170  11.326067\n",
       "3    33544_0_fal_10_0.png  17.477880   6.740102\n",
       "4    33544_0_fal_13_0.png  15.518093   7.284802\n",
       "..                    ...        ...        ...\n",
       "443  33482_0_fal_12_0.png  15.880318   6.760099\n",
       "444  33482_0_fal_15_0.png  16.058105   6.610201\n",
       "445  33482_0_fal_17_0.png  15.939569   6.470349\n",
       "446   33482_0_fal_1_0.png  14.915277   7.487192\n",
       "447  33482_0_fal_16_0.png  16.955946   6.301167\n",
       "\n",
       "[2272 rows x 3 columns]"
      ],
      "text/html": "<div>\n<style scoped>\n    .dataframe tbody tr th:only-of-type {\n        vertical-align: middle;\n    }\n\n    .dataframe tbody tr th {\n        vertical-align: top;\n    }\n\n    .dataframe thead th {\n        text-align: right;\n    }\n</style>\n<table border=\"1\" class=\"dataframe\">\n  <thead>\n    <tr style=\"text-align: right;\">\n      <th></th>\n      <th>filename</th>\n      <th>x</th>\n      <th>y</th>\n    </tr>\n  </thead>\n  <tbody>\n    <tr>\n      <th>0</th>\n      <td>33544_0_fal_12_0.png</td>\n      <td>17.328356</td>\n      <td>6.890578</td>\n    </tr>\n    <tr>\n      <th>1</th>\n      <td>33544_0_fal_17_0.png</td>\n      <td>14.834268</td>\n      <td>11.516161</td>\n    </tr>\n    <tr>\n      <th>2</th>\n      <td>33544_0_fal_18_0.png</td>\n      <td>15.553170</td>\n      <td>11.326067</td>\n    </tr>\n    <tr>\n      <th>3</th>\n      <td>33544_0_fal_10_0.png</td>\n      <td>17.477880</td>\n      <td>6.740102</td>\n    </tr>\n    <tr>\n      <th>4</th>\n      <td>33544_0_fal_13_0.png</td>\n      <td>15.518093</td>\n      <td>7.284802</td>\n    </tr>\n    <tr>\n      <th>...</th>\n      <td>...</td>\n      <td>...</td>\n      <td>...</td>\n    </tr>\n    <tr>\n      <th>443</th>\n      <td>33482_0_fal_12_0.png</td>\n      <td>15.880318</td>\n      <td>6.760099</td>\n    </tr>\n    <tr>\n      <th>444</th>\n      <td>33482_0_fal_15_0.png</td>\n      <td>16.058105</td>\n      <td>6.610201</td>\n    </tr>\n    <tr>\n      <th>445</th>\n      <td>33482_0_fal_17_0.png</td>\n      <td>15.939569</td>\n      <td>6.470349</td>\n    </tr>\n    <tr>\n      <th>446</th>\n      <td>33482_0_fal_1_0.png</td>\n      <td>14.915277</td>\n      <td>7.487192</td>\n    </tr>\n    <tr>\n      <th>447</th>\n      <td>33482_0_fal_16_0.png</td>\n      <td>16.955946</td>\n      <td>6.301167</td>\n    </tr>\n  </tbody>\n</table>\n<p>2272 rows × 3 columns</p>\n</div>"
     },
     "metadata": {},
     "execution_count": 25
    }
   ],
   "source": [
    "train_test_embedding_filename"
   ]
  },
  {
   "cell_type": "code",
   "execution_count": 26,
   "metadata": {},
   "outputs": [],
   "source": [
    "medical_data_embedding = pd.merge(train_test_embedding_filename, medical_data, left_on='filename', right_on='Image Name')"
   ]
  },
  {
   "cell_type": "code",
   "execution_count": 28,
   "metadata": {},
   "outputs": [],
   "source": [
    "medical_data_embedding.to_csv('medical_data_embedding.csv', index=False)"
   ]
  },
  {
   "cell_type": "code",
   "execution_count": null,
   "metadata": {},
   "outputs": [],
   "source": []
  }
 ],
 "metadata": {
  "kernelspec": {
   "display_name": "Python 3",
   "language": "python",
   "name": "python3"
  },
  "language_info": {
   "codemirror_mode": {
    "name": "ipython",
    "version": 3
   },
   "file_extension": ".py",
   "mimetype": "text/x-python",
   "name": "python",
   "nbconvert_exporter": "python",
   "pygments_lexer": "ipython3",
   "version": "3.7.6-final"
  }
 },
 "nbformat": 4,
 "nbformat_minor": 2
}