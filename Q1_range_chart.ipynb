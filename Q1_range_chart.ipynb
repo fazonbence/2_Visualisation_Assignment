{
 "metadata": {
  "language_info": {
   "codemirror_mode": {
    "name": "ipython",
    "version": 3
   },
   "file_extension": ".py",
   "mimetype": "text/x-python",
   "name": "python",
   "nbconvert_exporter": "python",
   "pygments_lexer": "ipython3",
   "version": "3.8.5-final"
  },
  "orig_nbformat": 2,
  "kernelspec": {
   "name": "python3",
   "display_name": "Python 3",
   "language": "python"
  }
 },
 "nbformat": 4,
 "nbformat_minor": 2,
 "cells": [
  {
   "cell_type": "code",
   "execution_count": null,
   "metadata": {},
   "outputs": [],
   "source": [
    "\n",
    "from bokeh.io import output_file, show\n",
    "from bokeh.models import ColumnDataSource\n",
    "from bokeh.plotting import figure\n",
    "from bokeh.sampledata.sprint import sprint\n",
    "\n"
   ]
  },
  {
   "cell_type": "code",
   "execution_count": null,
   "metadata": {},
   "outputs": [],
   "source": [
    "%store -r\n",
    "medical_data.head()"
   ]
  },
  {
   "cell_type": "code",
   "execution_count": null,
   "metadata": {},
   "outputs": [],
   "source": [
    "output_file(\"bar_intervals.html\")\n",
    "\n",
    "sprint.Year = sprint.Year.astype(str)\n",
    "group = sprint.groupby('Year')\n",
    "source = ColumnDataSource(group)\n",
    "\n",
    "p = figure(y_range=group, x_range=(9.5,12.7), plot_width=400, plot_height=550, toolbar_location=None,\n",
    "           title=\"Time Spreads for Sprint Medalists (by Year)\")\n",
    "p.hbar(y=\"Year\", left='Time_min', right='Time_max', height=0.4, source=source)\n",
    "\n",
    "p.ygrid.grid_line_color = None\n",
    "p.xaxis.axis_label = \"Time (seconds)\"\n",
    "p.outline_line_color = None\n",
    "\n",
    "show(p)"
   ]
  }
 ]
}