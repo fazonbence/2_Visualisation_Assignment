{
 "metadata": {
  "language_info": {
   "codemirror_mode": {
    "name": "ipython",
    "version": 3
   },
   "file_extension": ".py",
   "mimetype": "text/x-python",
   "name": "python",
   "nbconvert_exporter": "python",
   "pygments_lexer": "ipython3",
   "version": "3.8.5-final"
  },
  "orig_nbformat": 2,
  "kernelspec": {
   "name": "python3",
   "display_name": "Python 3",
   "language": "python"
  }
 },
 "nbformat": 4,
 "nbformat_minor": 2,
 "cells": [
  {
   "cell_type": "code",
   "execution_count": 83,
   "metadata": {},
   "outputs": [],
   "source": [
    "\n",
    "from bokeh.io import output_file, show\n",
    "from bokeh.models import ColumnDataSource\n",
    "from bokeh.plotting import figure\n",
    "\n",
    "import numpy as np\n",
    "import pandas as pd"
   ]
  },
  {
   "cell_type": "code",
   "execution_count": 134,
   "metadata": {},
   "outputs": [
    {
     "output_type": "execute_result",
     "data": {
      "text/plain": [
       "  Dataset Name            Image Name              Diagnosis  \\\n",
       "0     training  33381_0_fal_10_0.png  chronic heart failure   \n",
       "1     training  33381_0_fal_14_0.png  chronic heart failure   \n",
       "2     training  33381_0_fal_16_0.png  chronic heart failure   \n",
       "3     training  33381_0_fal_18_0.png  chronic heart failure   \n",
       "4     training  33381_0_fal_25_0.png  chronic heart failure   \n",
       "\n",
       "           Disease Subtype   Sex Ethnic or Racial Group   Age  Patient Id  \\\n",
       "0  ischemic cardiomyopathy  male       African American  65.0       33381   \n",
       "1  ischemic cardiomyopathy  male       African American  65.0       33381   \n",
       "2  ischemic cardiomyopathy  male       African American  65.0       33381   \n",
       "3  ischemic cardiomyopathy  male       African American  65.0       33381   \n",
       "4  ischemic cardiomyopathy  male       African American  65.0       33381   \n",
       "\n",
       "          Clinical History  \n",
       "0  ischemic cardiomyopathy  \n",
       "1  ischemic cardiomyopathy  \n",
       "2  ischemic cardiomyopathy  \n",
       "3  ischemic cardiomyopathy  \n",
       "4  ischemic cardiomyopathy  "
      ],
      "text/html": "<div>\n<style scoped>\n    .dataframe tbody tr th:only-of-type {\n        vertical-align: middle;\n    }\n\n    .dataframe tbody tr th {\n        vertical-align: top;\n    }\n\n    .dataframe thead th {\n        text-align: right;\n    }\n</style>\n<table border=\"1\" class=\"dataframe\">\n  <thead>\n    <tr style=\"text-align: right;\">\n      <th></th>\n      <th>Dataset Name</th>\n      <th>Image Name</th>\n      <th>Diagnosis</th>\n      <th>Disease Subtype</th>\n      <th>Sex</th>\n      <th>Ethnic or Racial Group</th>\n      <th>Age</th>\n      <th>Patient Id</th>\n      <th>Clinical History</th>\n    </tr>\n  </thead>\n  <tbody>\n    <tr>\n      <th>0</th>\n      <td>training</td>\n      <td>33381_0_fal_10_0.png</td>\n      <td>chronic heart failure</td>\n      <td>ischemic cardiomyopathy</td>\n      <td>male</td>\n      <td>African American</td>\n      <td>65.0</td>\n      <td>33381</td>\n      <td>ischemic cardiomyopathy</td>\n    </tr>\n    <tr>\n      <th>1</th>\n      <td>training</td>\n      <td>33381_0_fal_14_0.png</td>\n      <td>chronic heart failure</td>\n      <td>ischemic cardiomyopathy</td>\n      <td>male</td>\n      <td>African American</td>\n      <td>65.0</td>\n      <td>33381</td>\n      <td>ischemic cardiomyopathy</td>\n    </tr>\n    <tr>\n      <th>2</th>\n      <td>training</td>\n      <td>33381_0_fal_16_0.png</td>\n      <td>chronic heart failure</td>\n      <td>ischemic cardiomyopathy</td>\n      <td>male</td>\n      <td>African American</td>\n      <td>65.0</td>\n      <td>33381</td>\n      <td>ischemic cardiomyopathy</td>\n    </tr>\n    <tr>\n      <th>3</th>\n      <td>training</td>\n      <td>33381_0_fal_18_0.png</td>\n      <td>chronic heart failure</td>\n      <td>ischemic cardiomyopathy</td>\n      <td>male</td>\n      <td>African American</td>\n      <td>65.0</td>\n      <td>33381</td>\n      <td>ischemic cardiomyopathy</td>\n    </tr>\n    <tr>\n      <th>4</th>\n      <td>training</td>\n      <td>33381_0_fal_25_0.png</td>\n      <td>chronic heart failure</td>\n      <td>ischemic cardiomyopathy</td>\n      <td>male</td>\n      <td>African American</td>\n      <td>65.0</td>\n      <td>33381</td>\n      <td>ischemic cardiomyopathy</td>\n    </tr>\n  </tbody>\n</table>\n</div>"
     },
     "metadata": {},
     "execution_count": 134
    }
   ],
   "source": [
    "#load data\n",
    "%store -r\n",
    "medical_data.head()"
   ]
  },
  {
   "cell_type": "code",
   "execution_count": 188,
   "metadata": {},
   "outputs": [
    {
     "output_type": "stream",
     "name": "stdout",
     "text": [
      "     Dataset Name            Image Name              Diagnosis  \\\n0        training  33381_0_fal_10_0.png  chronic heart failure   \n11       training  33382_0_fal_10_0.png  chronic heart failure   \n22       training  33383_0_fal_11_0.png  chronic heart failure   \n33       training  33385_0_fal_12_0.png  chronic heart failure   \n44       training  33387_0_fal_11_0.png  chronic heart failure   \n...           ...                   ...                    ...   \n1628         test  34085_0_fal_17_0.png  chronic heart failure   \n1661         test  34089_0_fal_10_0.png  chronic heart failure   \n1694         test  34231_0_fal_10_0.png  chronic heart failure   \n1705         test  34238_0_fal_10_0.png  chronic heart failure   \n1716         test  34281_0_fal_10_0.png  chronic heart failure   \n\n              Disease Subtype     Sex Ethnic or Racial Group   Age  \\\n0     ischemic cardiomyopathy    male       African American  65.0   \n11    ischemic cardiomyopathy    male              Caucasian  62.0   \n22    ischemic cardiomyopathy    male              Caucasian  61.0   \n33    ischemic cardiomyopathy    male              Caucasian  54.0   \n44    ischemic cardiomyopathy  female   Unknown racial group  65.0   \n...                       ...     ...                    ...   ...   \n1628           cardiomyopathy    male              Caucasian  61.0   \n1661           cardiomyopathy  female              Caucasian  48.0   \n1694           cardiomyopathy  female   Unknown racial group  61.0   \n1705           cardiomyopathy  female              Caucasian  53.0   \n1716                      NaN    male              Caucasian  58.0   \n\n      Patient Id                                   Clinical History  \n0          33381                            ischemic cardiomyopathy  \n11         33382                            ischemic cardiomyopathy  \n22         33383                            ischemic cardiomyopathy  \n33         33385                            ischemic cardiomyopathy  \n44         33387                            ischemic cardiomyopathy  \n...          ...                                                ...  \n1628       34085                        non-ischemic cardiomyopathy  \n1661       34089                        non-ischemic cardiomyopathy  \n1694       34231                        non-ischemic cardiomyopathy  \n1705       34238                        non-ischemic cardiomyopathy  \n1716       34281  no documentation of ischemic vs non-ischemic e...  \n\n[94 rows x 9 columns]\n"
     ]
    }
   ],
   "source": [
    "#get unhealthy patients\n",
    "plot_data = unique_medical_data[unique_medical_data[\"Diagnosis\"]==\"chronic heart failure\"]\n",
    "\n",
    "\n",
    "plot_data[\"Ethnic or Racial Group\"] = plot_data[\"Ethnic or Racial Group\"].apply(lambda x : ( \"Unknown racial group\" if x==\"Race not stated\" else x))\n",
    "#plot_data[\"Ethnic or Racial Group\"] = plot_data[\"Ethnic or Racial Group\"].apply(lambda x : ( 1 if x==\"African American\" else 0))\n",
    "print(plot_data)"
   ]
  },
  {
   "cell_type": "code",
   "execution_count": 163,
   "metadata": {},
   "outputs": [
    {
     "output_type": "execute_result",
     "data": {
      "text/plain": [
       "                         Age      \n",
       "                        amin  amax\n",
       "Ethnic or Racial Group            \n",
       "0                       18.0  71.0\n",
       "1                       52.0  68.0"
      ],
      "text/html": "<div>\n<style scoped>\n    .dataframe tbody tr th:only-of-type {\n        vertical-align: middle;\n    }\n\n    .dataframe tbody tr th {\n        vertical-align: top;\n    }\n\n    .dataframe thead tr th {\n        text-align: left;\n    }\n\n    .dataframe thead tr:last-of-type th {\n        text-align: right;\n    }\n</style>\n<table border=\"1\" class=\"dataframe\">\n  <thead>\n    <tr>\n      <th></th>\n      <th colspan=\"2\" halign=\"left\">Age</th>\n    </tr>\n    <tr>\n      <th></th>\n      <th>amin</th>\n      <th>amax</th>\n    </tr>\n    <tr>\n      <th>Ethnic or Racial Group</th>\n      <th></th>\n      <th></th>\n    </tr>\n  </thead>\n  <tbody>\n    <tr>\n      <th>0</th>\n      <td>18.0</td>\n      <td>71.0</td>\n    </tr>\n    <tr>\n      <th>1</th>\n      <td>52.0</td>\n      <td>68.0</td>\n    </tr>\n  </tbody>\n</table>\n</div>"
     },
     "metadata": {},
     "execution_count": 163
    }
   ],
   "source": [
    "#get min and max age\n",
    "\n",
    "\n",
    "df=plot_data.groupby(\"Ethnic or Racial Group\").agg({'Age': [np.min,np.max]})\n",
    "\n",
    "#for col in df: \n",
    "#    print(col) \n",
    "df.head()\n",
    "#for col in df.columns: \n",
    " #   print(col) \n",
    "#print(df[\"Age\"][\"amin\"])\n"
   ]
  },
  {
   "cell_type": "code",
   "execution_count": 195,
   "metadata": {},
   "outputs": [
    {
     "output_type": "error",
     "ename": "ValueError",
     "evalue": "Column to be grouped does not exist in glyph data source",
     "traceback": [
      "\u001b[1;31m---------------------------------------------------------------------------\u001b[0m",
      "\u001b[1;31mValueError\u001b[0m                                Traceback (most recent call last)",
      "\u001b[1;32m<ipython-input-195-a18e221d24fb>\u001b[0m in \u001b[0;36m<module>\u001b[1;34m\u001b[0m\n\u001b[0;32m     24\u001b[0m  \u001b[1;31m#   p.circle(data[\"Age\"],data[\"Ethnic or Racial Group\"],\u001b[0m\u001b[1;33m\u001b[0m\u001b[1;33m\u001b[0m\u001b[1;33m\u001b[0m\u001b[0m\n\u001b[0;32m     25\u001b[0m   \u001b[1;31m#       color=colors, fill_alpha=0.2, size=10, legend_label=str(data[\"Sex\"]))\u001b[0m\u001b[1;33m\u001b[0m\u001b[1;33m\u001b[0m\u001b[1;33m\u001b[0m\u001b[0m\n\u001b[1;32m---> 26\u001b[1;33m p.circle(plot_data[\"Age\"],plot_data[\"Ethnic or Racial Group\"],\n\u001b[0m\u001b[0;32m     27\u001b[0m          color=colors, fill_alpha=0.2, size=10, legend_group=\"Age\")\n\u001b[0;32m     28\u001b[0m \u001b[1;33m\u001b[0m\u001b[0m\n",
      "\u001b[1;32m~\\anaconda3\\lib\\site-packages\\bokeh\\plotting\\_decorators.py\u001b[0m in \u001b[0;36mwrapped\u001b[1;34m(self, *args, **kwargs)\u001b[0m\n\u001b[0;32m     52\u001b[0m             \u001b[1;32mfor\u001b[0m \u001b[0marg\u001b[0m\u001b[1;33m,\u001b[0m \u001b[0mparam\u001b[0m \u001b[1;32min\u001b[0m \u001b[0mzip\u001b[0m\u001b[1;33m(\u001b[0m\u001b[0margs\u001b[0m\u001b[1;33m,\u001b[0m \u001b[0msigparams\u001b[0m\u001b[1;33m[\u001b[0m\u001b[1;36m1\u001b[0m\u001b[1;33m:\u001b[0m\u001b[1;33m]\u001b[0m\u001b[1;33m)\u001b[0m\u001b[1;33m:\u001b[0m\u001b[1;33m\u001b[0m\u001b[1;33m\u001b[0m\u001b[0m\n\u001b[0;32m     53\u001b[0m                 \u001b[0mkwargs\u001b[0m\u001b[1;33m[\u001b[0m\u001b[0mparam\u001b[0m\u001b[1;33m.\u001b[0m\u001b[0mname\u001b[0m\u001b[1;33m]\u001b[0m \u001b[1;33m=\u001b[0m \u001b[0marg\u001b[0m\u001b[1;33m\u001b[0m\u001b[1;33m\u001b[0m\u001b[0m\n\u001b[1;32m---> 54\u001b[1;33m             \u001b[1;32mreturn\u001b[0m \u001b[0mcreate_renderer\u001b[0m\u001b[1;33m(\u001b[0m\u001b[0mglyphclass\u001b[0m\u001b[1;33m,\u001b[0m \u001b[0mself\u001b[0m\u001b[1;33m,\u001b[0m \u001b[1;33m**\u001b[0m\u001b[0mkwargs\u001b[0m\u001b[1;33m)\u001b[0m\u001b[1;33m\u001b[0m\u001b[1;33m\u001b[0m\u001b[0m\n\u001b[0m\u001b[0;32m     55\u001b[0m \u001b[1;33m\u001b[0m\u001b[0m\n\u001b[0;32m     56\u001b[0m         \u001b[0mwrapped\u001b[0m\u001b[1;33m.\u001b[0m\u001b[0m__signature__\u001b[0m \u001b[1;33m=\u001b[0m \u001b[0mSignature\u001b[0m\u001b[1;33m(\u001b[0m\u001b[0mparameters\u001b[0m\u001b[1;33m=\u001b[0m\u001b[0msigparams\u001b[0m\u001b[1;33m)\u001b[0m\u001b[1;33m\u001b[0m\u001b[1;33m\u001b[0m\u001b[0m\n",
      "\u001b[1;32m~\\anaconda3\\lib\\site-packages\\bokeh\\plotting\\_renderer.py\u001b[0m in \u001b[0;36mcreate_renderer\u001b[1;34m(glyphclass, plot, **kwargs)\u001b[0m\n\u001b[0;32m    129\u001b[0m         \u001b[1;31m# if it creates a new `LegendItem`, the referenced\u001b[0m\u001b[1;33m\u001b[0m\u001b[1;33m\u001b[0m\u001b[1;33m\u001b[0m\u001b[0m\n\u001b[0;32m    130\u001b[0m         \u001b[1;31m# renderer must already be present.\u001b[0m\u001b[1;33m\u001b[0m\u001b[1;33m\u001b[0m\u001b[1;33m\u001b[0m\u001b[0m\n\u001b[1;32m--> 131\u001b[1;33m         \u001b[0mupdate_legend\u001b[0m\u001b[1;33m(\u001b[0m\u001b[0mplot\u001b[0m\u001b[1;33m,\u001b[0m \u001b[0mlegend_kwarg\u001b[0m\u001b[1;33m,\u001b[0m \u001b[0mglyph_renderer\u001b[0m\u001b[1;33m)\u001b[0m\u001b[1;33m\u001b[0m\u001b[1;33m\u001b[0m\u001b[0m\n\u001b[0m\u001b[0;32m    132\u001b[0m \u001b[1;33m\u001b[0m\u001b[0m\n\u001b[0;32m    133\u001b[0m     \u001b[1;32mreturn\u001b[0m \u001b[0mglyph_renderer\u001b[0m\u001b[1;33m\u001b[0m\u001b[1;33m\u001b[0m\u001b[0m\n",
      "\u001b[1;32m~\\anaconda3\\lib\\site-packages\\bokeh\\plotting\\_legends.py\u001b[0m in \u001b[0;36mupdate_legend\u001b[1;34m(plot, legend_kwarg, glyph_renderer)\u001b[0m\n\u001b[0;32m     54\u001b[0m     \u001b[0mkwarg\u001b[0m\u001b[1;33m,\u001b[0m \u001b[0mvalue\u001b[0m \u001b[1;33m=\u001b[0m \u001b[0mlist\u001b[0m\u001b[1;33m(\u001b[0m\u001b[0mlegend_kwarg\u001b[0m\u001b[1;33m.\u001b[0m\u001b[0mitems\u001b[0m\u001b[1;33m(\u001b[0m\u001b[1;33m)\u001b[0m\u001b[1;33m)\u001b[0m\u001b[1;33m[\u001b[0m\u001b[1;36m0\u001b[0m\u001b[1;33m]\u001b[0m\u001b[1;33m\u001b[0m\u001b[1;33m\u001b[0m\u001b[0m\n\u001b[0;32m     55\u001b[0m \u001b[1;33m\u001b[0m\u001b[0m\n\u001b[1;32m---> 56\u001b[1;33m     \u001b[0m_LEGEND_KWARG_HANDLERS\u001b[0m\u001b[1;33m[\u001b[0m\u001b[0mkwarg\u001b[0m\u001b[1;33m]\u001b[0m\u001b[1;33m(\u001b[0m\u001b[0mvalue\u001b[0m\u001b[1;33m,\u001b[0m \u001b[0mlegend\u001b[0m\u001b[1;33m,\u001b[0m \u001b[0mglyph_renderer\u001b[0m\u001b[1;33m)\u001b[0m\u001b[1;33m\u001b[0m\u001b[1;33m\u001b[0m\u001b[0m\n\u001b[0m\u001b[0;32m     57\u001b[0m \u001b[1;33m\u001b[0m\u001b[0m\n\u001b[0;32m     58\u001b[0m \u001b[1;31m#-----------------------------------------------------------------------------\u001b[0m\u001b[1;33m\u001b[0m\u001b[1;33m\u001b[0m\u001b[1;33m\u001b[0m\u001b[0m\n",
      "\u001b[1;32m~\\anaconda3\\lib\\site-packages\\bokeh\\plotting\\_legends.py\u001b[0m in \u001b[0;36m_handle_legend_group\u001b[1;34m(label, legend, glyph_renderer)\u001b[0m\n\u001b[0;32m    118\u001b[0m         \u001b[1;32mraise\u001b[0m \u001b[0mValueError\u001b[0m\u001b[1;33m(\u001b[0m\u001b[1;34m\"Cannot use 'legend_group' on a glyph without a data source already configured\"\u001b[0m\u001b[1;33m)\u001b[0m\u001b[1;33m\u001b[0m\u001b[1;33m\u001b[0m\u001b[0m\n\u001b[0;32m    119\u001b[0m     \u001b[1;32mif\u001b[0m \u001b[1;32mnot\u001b[0m \u001b[1;33m(\u001b[0m\u001b[0mhasattr\u001b[0m\u001b[1;33m(\u001b[0m\u001b[0msource\u001b[0m\u001b[1;33m,\u001b[0m \u001b[1;34m'column_names'\u001b[0m\u001b[1;33m)\u001b[0m \u001b[1;32mand\u001b[0m \u001b[0mlabel\u001b[0m \u001b[1;32min\u001b[0m \u001b[0msource\u001b[0m\u001b[1;33m.\u001b[0m\u001b[0mcolumn_names\u001b[0m\u001b[1;33m)\u001b[0m\u001b[1;33m:\u001b[0m\u001b[1;33m\u001b[0m\u001b[1;33m\u001b[0m\u001b[0m\n\u001b[1;32m--> 120\u001b[1;33m         \u001b[1;32mraise\u001b[0m \u001b[0mValueError\u001b[0m\u001b[1;33m(\u001b[0m\u001b[1;34m\"Column to be grouped does not exist in glyph data source\"\u001b[0m\u001b[1;33m)\u001b[0m\u001b[1;33m\u001b[0m\u001b[1;33m\u001b[0m\u001b[0m\n\u001b[0m\u001b[0;32m    121\u001b[0m \u001b[1;33m\u001b[0m\u001b[0m\n\u001b[0;32m    122\u001b[0m     \u001b[0mcolumn\u001b[0m \u001b[1;33m=\u001b[0m \u001b[0msource\u001b[0m\u001b[1;33m.\u001b[0m\u001b[0mdata\u001b[0m\u001b[1;33m[\u001b[0m\u001b[0mlabel\u001b[0m\u001b[1;33m]\u001b[0m\u001b[1;33m\u001b[0m\u001b[1;33m\u001b[0m\u001b[0m\n",
      "\u001b[1;31mValueError\u001b[0m: Column to be grouped does not exist in glyph data source"
     ]
    }
   ],
   "source": [
    "#output_file(\"bar_intervals.html\")\n",
    "\n",
    "#sprint.Year = medical_data[\"Ethnic or Racial Group\"].unique()\n",
    "\n",
    "\n",
    "#colormap = {'African American': 'black', 'Caucasian': 'green', 'Race not stated': 'blue',  'Unknown racial group': 'blue'}\n",
    "\n",
    "#colormap = {1: 'black', 0: 'green'}\n",
    "#colors = [colormap[x] for x in plot_data['Ethnic or Racial Group']]\n",
    "\n",
    "colormap = {'male': \"blue\", \"female\" : \"red\"}\n",
    "colors = [colormap[x] for x in plot_data['Sex']]\n",
    "\n",
    "\n",
    "p = figure(title = \"Ethnic groups and time of infection \", y_range= plot_data['Ethnic or Racial Group'].unique())\n",
    "\n",
    "p.legend.location = \"top_right\"\n",
    "p.legend.click_policy=\"hide\"\n",
    "\n",
    "p.xaxis.axis_label = 'Age'\n",
    "p.yaxis.axis_label = 'Ethnic group'\n",
    "\n",
    "#for data in plot_data:\n",
    " #   p.circle(data[\"Age\"],data[\"Ethnic or Racial Group\"],\n",
    "  #       color=colors, fill_alpha=0.2, size=10, legend_label=str(data[\"Sex\"]))\n",
    "p.circle(plot_data[\"Age\"],plot_data[\"Ethnic or Racial Group\"],\n",
    "         color=colors, fill_alpha=0.2, size=10, legend_group=\"Sex\", source=plot_data)\n",
    "\n",
    "output_file(\"iris.html\", title=\"iris.py example\")\n",
    "\n",
    "show(p)"
   ]
  },
  {
   "cell_type": "code",
   "execution_count": null,
   "metadata": {},
   "outputs": [],
   "source": []
  }
 ]
}