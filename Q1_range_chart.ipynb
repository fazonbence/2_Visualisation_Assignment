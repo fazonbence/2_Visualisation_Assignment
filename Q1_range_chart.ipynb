{
 "metadata": {
  "language_info": {
   "codemirror_mode": {
    "name": "ipython",
    "version": 3
   },
   "file_extension": ".py",
   "mimetype": "text/x-python",
   "name": "python",
   "nbconvert_exporter": "python",
   "pygments_lexer": "ipython3",
   "version": "3.8.5-final"
  },
  "orig_nbformat": 2,
  "kernelspec": {
   "name": "python3",
   "display_name": "Python 3",
   "language": "python"
  }
 },
 "nbformat": 4,
 "nbformat_minor": 2,
 "cells": [
  {
   "cell_type": "code",
   "execution_count": 304,
   "metadata": {},
   "outputs": [],
   "source": [
    "\n",
    "from bokeh.io import output_file, show\n",
    "from bokeh.models import ColumnDataSource, CDSView, BooleanFilter\n",
    "from bokeh.plotting import figure\n",
    "from bokeh.models import (\n",
    "    CategoricalColorMapper,\n",
    "    ColumnDataSource,\n",
    "    LassoSelectTool,\n",
    "    WheelZoomTool,\n",
    "    ZoomInTool,\n",
    "    BoxZoomTool,\n",
    "    ResetTool,\n",
    ")\n",
    "from bokeh.layouts import gridplot\n",
    "import numpy as np\n",
    "import pandas as pd"
   ]
  },
  {
   "cell_type": "code",
   "execution_count": 305,
   "metadata": {},
   "outputs": [
    {
     "output_type": "execute_result",
     "data": {
      "text/plain": [
       "  Dataset Name            Image Name              Diagnosis  \\\n",
       "0     training  33381_0_fal_10_0.png  chronic heart failure   \n",
       "1     training  33381_0_fal_14_0.png  chronic heart failure   \n",
       "2     training  33381_0_fal_16_0.png  chronic heart failure   \n",
       "3     training  33381_0_fal_18_0.png  chronic heart failure   \n",
       "4     training  33381_0_fal_25_0.png  chronic heart failure   \n",
       "\n",
       "           Disease Subtype   Sex Ethnic or Racial Group   Age  Patient Id  \\\n",
       "0  ischemic cardiomyopathy  male       African American  65.0       33381   \n",
       "1  ischemic cardiomyopathy  male       African American  65.0       33381   \n",
       "2  ischemic cardiomyopathy  male       African American  65.0       33381   \n",
       "3  ischemic cardiomyopathy  male       African American  65.0       33381   \n",
       "4  ischemic cardiomyopathy  male       African American  65.0       33381   \n",
       "\n",
       "          Clinical History  \n",
       "0  ischemic cardiomyopathy  \n",
       "1  ischemic cardiomyopathy  \n",
       "2  ischemic cardiomyopathy  \n",
       "3  ischemic cardiomyopathy  \n",
       "4  ischemic cardiomyopathy  "
      ],
      "text/html": "<div>\n<style scoped>\n    .dataframe tbody tr th:only-of-type {\n        vertical-align: middle;\n    }\n\n    .dataframe tbody tr th {\n        vertical-align: top;\n    }\n\n    .dataframe thead th {\n        text-align: right;\n    }\n</style>\n<table border=\"1\" class=\"dataframe\">\n  <thead>\n    <tr style=\"text-align: right;\">\n      <th></th>\n      <th>Dataset Name</th>\n      <th>Image Name</th>\n      <th>Diagnosis</th>\n      <th>Disease Subtype</th>\n      <th>Sex</th>\n      <th>Ethnic or Racial Group</th>\n      <th>Age</th>\n      <th>Patient Id</th>\n      <th>Clinical History</th>\n    </tr>\n  </thead>\n  <tbody>\n    <tr>\n      <th>0</th>\n      <td>training</td>\n      <td>33381_0_fal_10_0.png</td>\n      <td>chronic heart failure</td>\n      <td>ischemic cardiomyopathy</td>\n      <td>male</td>\n      <td>African American</td>\n      <td>65.0</td>\n      <td>33381</td>\n      <td>ischemic cardiomyopathy</td>\n    </tr>\n    <tr>\n      <th>1</th>\n      <td>training</td>\n      <td>33381_0_fal_14_0.png</td>\n      <td>chronic heart failure</td>\n      <td>ischemic cardiomyopathy</td>\n      <td>male</td>\n      <td>African American</td>\n      <td>65.0</td>\n      <td>33381</td>\n      <td>ischemic cardiomyopathy</td>\n    </tr>\n    <tr>\n      <th>2</th>\n      <td>training</td>\n      <td>33381_0_fal_16_0.png</td>\n      <td>chronic heart failure</td>\n      <td>ischemic cardiomyopathy</td>\n      <td>male</td>\n      <td>African American</td>\n      <td>65.0</td>\n      <td>33381</td>\n      <td>ischemic cardiomyopathy</td>\n    </tr>\n    <tr>\n      <th>3</th>\n      <td>training</td>\n      <td>33381_0_fal_18_0.png</td>\n      <td>chronic heart failure</td>\n      <td>ischemic cardiomyopathy</td>\n      <td>male</td>\n      <td>African American</td>\n      <td>65.0</td>\n      <td>33381</td>\n      <td>ischemic cardiomyopathy</td>\n    </tr>\n    <tr>\n      <th>4</th>\n      <td>training</td>\n      <td>33381_0_fal_25_0.png</td>\n      <td>chronic heart failure</td>\n      <td>ischemic cardiomyopathy</td>\n      <td>male</td>\n      <td>African American</td>\n      <td>65.0</td>\n      <td>33381</td>\n      <td>ischemic cardiomyopathy</td>\n    </tr>\n  </tbody>\n</table>\n</div>"
     },
     "metadata": {},
     "execution_count": 305
    }
   ],
   "source": [
    "#load data\n",
    "%store -r\n",
    "medical_data.head()"
   ]
  },
  {
   "cell_type": "code",
   "execution_count": 306,
   "metadata": {},
   "outputs": [
    {
     "output_type": "stream",
     "name": "stdout",
     "text": [
      "     Dataset Name            Image Name                  Diagnosis  \\\n429      training  33553_1_nrm_10_0.png  not chronic heart failure   \n462      training  34075_1_nrm_12_0.png  not chronic heart failure   \n495      training  34080_1_nrm_10_0.png  not chronic heart failure   \n550      training  35588_1_nrm_10_0.png  not chronic heart failure   \n561      training  35591_1_nrm_10_0.png  not chronic heart failure   \n...           ...                   ...                        ...   \n2244         test  36167_1_nrm_17_0.png  not chronic heart failure   \n2255         test  36171_1_nrm_10_0.png  not chronic heart failure   \n2266         test  36172_1_nrm_10_0.png  not chronic heart failure   \n2277         test  36173_1_nrm_10_0.png  not chronic heart failure   \n2288         test  36175_1_nrm_10_0.png  not chronic heart failure   \n\n     Disease Subtype     Sex Ethnic or Racial Group   Age  Patient Id  \\\n429              NaN  female   Unknown racial group  58.0       33553   \n462              NaN    male              Caucasian  76.0       34075   \n495              NaN    male               Hispanic  66.0       34080   \n550              NaN    male              Caucasian  47.0       35588   \n561              NaN  female       African American  65.0       35591   \n...              ...     ...                    ...   ...         ...   \n2244             NaN  female       African American  56.0       36167   \n2255             NaN    male              Caucasian  44.0       36171   \n2266             NaN    male              Caucasian  59.0       36172   \n2277             NaN  female              Caucasian  59.0       36173   \n2288             NaN  female              Caucasian  53.0       36175   \n\n                                       Clinical History  \n429   normal cardiovascular function by cardiac cath...  \n462   donor without a history of chronic heart failu...  \n495   donor without a history of chronic heart failu...  \n550   donor without a history of chronic heart failu...  \n561   donor without a history of chronic heart failu...  \n...                                                 ...  \n2244  normal cardiovascular function by cardiac cath...  \n2255  normal cardiovascular function by cardiac cath...  \n2266  donor without a history of chronic heart failu...  \n2277  donor without a history of chronic heart failu...  \n2288  normal cardiovascular function by cardiac cath...  \n\n[114 rows x 9 columns]\n"
     ]
    }
   ],
   "source": [
    "#get unhealthy patients\n",
    "plot_data = unique_medical_data[unique_medical_data[\"Diagnosis\"]!=\"chronic heart failure\"]\n",
    "#plot_data = unique_medical_data[unique_medical_data[\"Diagnosis\"]==\"chronic heart failure\"]\n",
    "\n",
    "plot_data[\"Ethnic or Racial Group\"] = plot_data[\"Ethnic or Racial Group\"].apply(lambda x : ( \"Unknown racial group\" if x==\"Race not stated\" else x))\n",
    "#plot_data[\"Ethnic or Racial Group\"] = plot_data[\"Ethnic or Racial Group\"].apply(lambda x : ( 1 if x==\"African American\" else 0))\n",
    "print(plot_data)"
   ]
  },
  {
   "cell_type": "code",
   "execution_count": 307,
   "metadata": {},
   "outputs": [
    {
     "output_type": "execute_result",
     "data": {
      "text/plain": [
       "                         Age      \n",
       "                        amin  amax\n",
       "Ethnic or Racial Group            \n",
       "African American         3.0  73.0\n",
       "Caucasian                1.0  80.0\n",
       "Hispanic                37.0  69.0\n",
       "Unknown racial group    58.0  62.0"
      ],
      "text/html": "<div>\n<style scoped>\n    .dataframe tbody tr th:only-of-type {\n        vertical-align: middle;\n    }\n\n    .dataframe tbody tr th {\n        vertical-align: top;\n    }\n\n    .dataframe thead tr th {\n        text-align: left;\n    }\n\n    .dataframe thead tr:last-of-type th {\n        text-align: right;\n    }\n</style>\n<table border=\"1\" class=\"dataframe\">\n  <thead>\n    <tr>\n      <th></th>\n      <th colspan=\"2\" halign=\"left\">Age</th>\n    </tr>\n    <tr>\n      <th></th>\n      <th>amin</th>\n      <th>amax</th>\n    </tr>\n    <tr>\n      <th>Ethnic or Racial Group</th>\n      <th></th>\n      <th></th>\n    </tr>\n  </thead>\n  <tbody>\n    <tr>\n      <th>African American</th>\n      <td>3.0</td>\n      <td>73.0</td>\n    </tr>\n    <tr>\n      <th>Caucasian</th>\n      <td>1.0</td>\n      <td>80.0</td>\n    </tr>\n    <tr>\n      <th>Hispanic</th>\n      <td>37.0</td>\n      <td>69.0</td>\n    </tr>\n    <tr>\n      <th>Unknown racial group</th>\n      <td>58.0</td>\n      <td>62.0</td>\n    </tr>\n  </tbody>\n</table>\n</div>"
     },
     "metadata": {},
     "execution_count": 307
    }
   ],
   "source": [
    "#get min and max age\n",
    "df=plot_data.groupby(\"Ethnic or Racial Group\").agg({'Age': [np.min,np.max]})\n",
    "df.head()\n"
   ]
  },
  {
   "cell_type": "code",
   "execution_count": 308,
   "metadata": {},
   "outputs": [
    {
     "output_type": "execute_result",
     "data": {
      "text/plain": [
       "     Dataset Name            Image Name                  Diagnosis  \\\n",
       "429      training  33553_1_nrm_10_0.png  not chronic heart failure   \n",
       "561      training  35591_1_nrm_10_0.png  not chronic heart failure   \n",
       "594      training  35598_1_nrm_13_0.png  not chronic heart failure   \n",
       "605      training  35600_1_nrm_10_0.png  not chronic heart failure   \n",
       "616      training  35604_1_nrm_11_0.png  not chronic heart failure   \n",
       "649      training  35623_1_nrm_10_0.png  not chronic heart failure   \n",
       "671      training  35627_1_nrm_10_0.png  not chronic heart failure   \n",
       "682      training  35631_1_nrm_10_0.png  not chronic heart failure   \n",
       "704      training  35634_1_nrm_12_0.png  not chronic heart failure   \n",
       "726      training  35639_1_nrm_15_0.png  not chronic heart failure   \n",
       "792      training  35650_1_nrm_13_0.png  not chronic heart failure   \n",
       "880      training  36120_1_nrm_12_0.png  not chronic heart failure   \n",
       "924      training  36130_1_nrm_18_0.png  not chronic heart failure   \n",
       "935      training  36131_1_nrm_11_0.png  not chronic heart failure   \n",
       "946      training  36133_1_nrm_10_0.png  not chronic heart failure   \n",
       "968      training  36136_1_nrm_10_0.png  not chronic heart failure   \n",
       "979      training  36142_1_nrm_11_0.png  not chronic heart failure   \n",
       "1001     training  36148_1_nrm_18_0.png  not chronic heart failure   \n",
       "1012     training  36150_1_nrm_11_0.png  not chronic heart failure   \n",
       "1023     training  36151_1_nrm_11_0.png  not chronic heart failure   \n",
       "1067     training  36162_1_nrm_13_0.png  not chronic heart failure   \n",
       "1078     training  36164_1_nrm_17_0.png  not chronic heart failure   \n",
       "1111     training  36170_1_nrm_12_0.png  not chronic heart failure   \n",
       "1573         test  34073_1_nrm_10_0.png  not chronic heart failure   \n",
       "1639         test  34086_1_nrm_11_0.png  not chronic heart failure   \n",
       "1672         test  34090_1_nrm_11_0.png  not chronic heart failure   \n",
       "1727         test  34296_1_nrm_14_0.png  not chronic heart failure   \n",
       "1760         test  35592_1_nrm_11_0.png  not chronic heart failure   \n",
       "1771         test  35594_1_nrm_10_0.png  not chronic heart failure   \n",
       "1782         test  35597_1_nrm_10_0.png  not chronic heart failure   \n",
       "1793         test  35599_1_nrm_10_0.png  not chronic heart failure   \n",
       "1815         test   35602_1_nrm_1_0.png  not chronic heart failure   \n",
       "1826         test  35603_1_nrm_10_0.png  not chronic heart failure   \n",
       "1848         test  35607_1_nrm_13_0.png  not chronic heart failure   \n",
       "1859         test  35609_1_nrm_10_0.png  not chronic heart failure   \n",
       "1870         test  35622_1_nrm_12_0.png  not chronic heart failure   \n",
       "1892         test  35626_1_nrm_10_0.png  not chronic heart failure   \n",
       "1969         test  35638_1_nrm_16_0.png  not chronic heart failure   \n",
       "1980         test  35643_1_nrm_13_0.png  not chronic heart failure   \n",
       "2024         test   35651_1_nrm_1_0.png  not chronic heart failure   \n",
       "2068         test  36114_1_nrm_12_0.png  not chronic heart failure   \n",
       "2079         test  36116_1_nrm_10_0.png  not chronic heart failure   \n",
       "2090         test  36117_1_nrm_11_0.png  not chronic heart failure   \n",
       "2101         test  36121_1_nrm_10_0.png  not chronic heart failure   \n",
       "2112         test  36123_1_nrm_43_0.png  not chronic heart failure   \n",
       "2134         test  36135_1_nrm_17_0.png  not chronic heart failure   \n",
       "2145         test  36141_1_nrm_10_0.png  not chronic heart failure   \n",
       "2167         test  36152_1_nrm_11_0.png  not chronic heart failure   \n",
       "2189         test  36156_1_nrm_15_0.png  not chronic heart failure   \n",
       "2211         test  36160_1_nrm_10_0.png  not chronic heart failure   \n",
       "2222         test  36163_1_nrm_11_0.png  not chronic heart failure   \n",
       "2244         test  36167_1_nrm_17_0.png  not chronic heart failure   \n",
       "2277         test  36173_1_nrm_10_0.png  not chronic heart failure   \n",
       "2288         test  36175_1_nrm_10_0.png  not chronic heart failure   \n",
       "\n",
       "     Disease Subtype     Sex Ethnic or Racial Group   Age  Patient Id  \\\n",
       "429              NaN  female   Unknown racial group  58.0       33553   \n",
       "561              NaN  female       African American  65.0       35591   \n",
       "594              NaN  female               Hispanic  68.0       35598   \n",
       "605              NaN  female              Caucasian  60.0       35600   \n",
       "616              NaN  female              Caucasian  55.0       35604   \n",
       "649              NaN  female              Caucasian  61.0       35623   \n",
       "671              NaN  female       African American  64.0       35627   \n",
       "682              NaN  female              Caucasian  45.0       35631   \n",
       "704              NaN  female              Caucasian  24.0       35634   \n",
       "726              NaN  female              Caucasian  57.0       35639   \n",
       "792              NaN  female              Caucasian  67.0       35650   \n",
       "880              NaN  female              Caucasian  60.0       36120   \n",
       "924              NaN  female              Caucasian  56.0       36130   \n",
       "935              NaN  female              Caucasian  66.0       36131   \n",
       "946              NaN  female              Caucasian  67.0       36133   \n",
       "968              NaN  female              Caucasian  74.0       36136   \n",
       "979              NaN  female              Caucasian  68.0       36142   \n",
       "1001             NaN  female              Caucasian  77.0       36148   \n",
       "1012             NaN  female              Caucasian  24.0       36150   \n",
       "1023             NaN  female       African American  65.0       36151   \n",
       "1067             NaN  female               Hispanic  41.0       36162   \n",
       "1078             NaN  female              Caucasian  60.0       36164   \n",
       "1111             NaN  female              Caucasian  59.0       36170   \n",
       "1573             NaN  female   Unknown racial group  62.0       34073   \n",
       "1639             NaN  female              Caucasian  54.0       34086   \n",
       "1672             NaN  female              Caucasian  65.0       34090   \n",
       "1727             NaN  female              Caucasian  59.0       34296   \n",
       "1760             NaN  female               Hispanic  69.0       35592   \n",
       "1771             NaN  female              Caucasian  52.0       35594   \n",
       "1782             NaN  female       African American  73.0       35597   \n",
       "1793             NaN  female              Caucasian  51.0       35599   \n",
       "1815             NaN  female              Caucasian   8.0       35602   \n",
       "1826             NaN  female              Caucasian  65.0       35603   \n",
       "1848             NaN  female              Caucasian  80.0       35607   \n",
       "1859             NaN  female       African American  20.0       35609   \n",
       "1870             NaN  female              Caucasian  55.0       35622   \n",
       "1892             NaN  female              Caucasian  65.0       35626   \n",
       "1969             NaN  female               Hispanic  37.0       35638   \n",
       "1980             NaN  female              Caucasian  59.0       35643   \n",
       "2024             NaN  female       African American  50.0       35651   \n",
       "2068             NaN  female              Caucasian  21.0       36114   \n",
       "2079             NaN  female              Caucasian  56.0       36116   \n",
       "2090             NaN  female              Caucasian  26.0       36117   \n",
       "2101             NaN  female              Caucasian  78.0       36121   \n",
       "2112             NaN  female              Caucasian  57.0       36123   \n",
       "2134             NaN  female              Caucasian  77.0       36135   \n",
       "2145             NaN  female              Caucasian  57.0       36141   \n",
       "2167             NaN  female              Caucasian  51.0       36152   \n",
       "2189             NaN  female              Caucasian  75.0       36156   \n",
       "2211             NaN  female       African American  52.0       36160   \n",
       "2222             NaN  female              Caucasian  75.0       36163   \n",
       "2244             NaN  female       African American  56.0       36167   \n",
       "2277             NaN  female              Caucasian  59.0       36173   \n",
       "2288             NaN  female              Caucasian  53.0       36175   \n",
       "\n",
       "                                       Clinical History  \n",
       "429   normal cardiovascular function by cardiac cath...  \n",
       "561   donor without a history of chronic heart failu...  \n",
       "594   donor without a history of chronic heart failu...  \n",
       "605   normal cardiovascular function by cardiac cath...  \n",
       "616   normal cardiovascular function by cardiac cath...  \n",
       "649   normal cardiovascular function by cardiac cath...  \n",
       "671   donor without a history of chronic heart failu...  \n",
       "682   donor without a history of chronic heart failu...  \n",
       "704   normal cardiovascular function by cardiac cath...  \n",
       "726   donor without a history of chronic heart failu...  \n",
       "792   donor without a history of chronic heart failu...  \n",
       "880   normal cardiovascular function by cardiac cath...  \n",
       "924   donor without a history of chronic heart failu...  \n",
       "935   donor without a history of chronic heart failu...  \n",
       "946   donor without a history of chronic heart failu...  \n",
       "968   donor without a history of chronic heart failu...  \n",
       "979   donor without a history of chronic heart failu...  \n",
       "1001  donor without a history of chronic heart failu...  \n",
       "1012  donor without a history of chronic heart failu...  \n",
       "1023  donor without a history of chronic heart failu...  \n",
       "1067  donor without a history of chronic heart failu...  \n",
       "1078  donor without a history of chronic heart failu...  \n",
       "1111  donor without a history of chronic heart failu...  \n",
       "1573  donor without a history of chronic heart failu...  \n",
       "1639  donor without a history of chronic heart failu...  \n",
       "1672  donor without a history of chronic heart failu...  \n",
       "1727  donor without a history of chronic heart failu...  \n",
       "1760  donor without a history of chronic heart failu...  \n",
       "1771  normal cardiovascular function by cardiac cath...  \n",
       "1782  donor without a history of chronic heart failu...  \n",
       "1793  donor without a history of chronic heart failu...  \n",
       "1815  donor without a history of chronic heart failu...  \n",
       "1826  donor without a history of chronic heart failu...  \n",
       "1848  normal cardiovascular function by cardiac cath...  \n",
       "1859  normal cardiovascular function by cardiac cath...  \n",
       "1870  normal cardiovascular function by cardiac cath...  \n",
       "1892  donor without a history of chronic heart failu...  \n",
       "1969  donor without a history of chronic heart failu...  \n",
       "1980  normal cardiovascular function by cardiac cath...  \n",
       "2024  donor without a history of chronic heart failu...  \n",
       "2068  donor without a history of chronic heart failu...  \n",
       "2079  donor without a history of chronic heart failu...  \n",
       "2090  donor without a history of chronic heart failu...  \n",
       "2101  donor without a history of chronic heart failu...  \n",
       "2112  donor without a history of chronic heart failu...  \n",
       "2134  donor without a history of chronic heart failu...  \n",
       "2145  donor without a history of chronic heart failu...  \n",
       "2167  normal cardiovascular function by cardiac cath...  \n",
       "2189  donor without a history of chronic heart failu...  \n",
       "2211  donor without a history of chronic heart failu...  \n",
       "2222  donor without a history of chronic heart failu...  \n",
       "2244  normal cardiovascular function by cardiac cath...  \n",
       "2277  donor without a history of chronic heart failu...  \n",
       "2288  normal cardiovascular function by cardiac cath...  "
      ],
      "text/html": "<div>\n<style scoped>\n    .dataframe tbody tr th:only-of-type {\n        vertical-align: middle;\n    }\n\n    .dataframe tbody tr th {\n        vertical-align: top;\n    }\n\n    .dataframe thead th {\n        text-align: right;\n    }\n</style>\n<table border=\"1\" class=\"dataframe\">\n  <thead>\n    <tr style=\"text-align: right;\">\n      <th></th>\n      <th>Dataset Name</th>\n      <th>Image Name</th>\n      <th>Diagnosis</th>\n      <th>Disease Subtype</th>\n      <th>Sex</th>\n      <th>Ethnic or Racial Group</th>\n      <th>Age</th>\n      <th>Patient Id</th>\n      <th>Clinical History</th>\n    </tr>\n  </thead>\n  <tbody>\n    <tr>\n      <th>429</th>\n      <td>training</td>\n      <td>33553_1_nrm_10_0.png</td>\n      <td>not chronic heart failure</td>\n      <td>NaN</td>\n      <td>female</td>\n      <td>Unknown racial group</td>\n      <td>58.0</td>\n      <td>33553</td>\n      <td>normal cardiovascular function by cardiac cath...</td>\n    </tr>\n    <tr>\n      <th>561</th>\n      <td>training</td>\n      <td>35591_1_nrm_10_0.png</td>\n      <td>not chronic heart failure</td>\n      <td>NaN</td>\n      <td>female</td>\n      <td>African American</td>\n      <td>65.0</td>\n      <td>35591</td>\n      <td>donor without a history of chronic heart failu...</td>\n    </tr>\n    <tr>\n      <th>594</th>\n      <td>training</td>\n      <td>35598_1_nrm_13_0.png</td>\n      <td>not chronic heart failure</td>\n      <td>NaN</td>\n      <td>female</td>\n      <td>Hispanic</td>\n      <td>68.0</td>\n      <td>35598</td>\n      <td>donor without a history of chronic heart failu...</td>\n    </tr>\n    <tr>\n      <th>605</th>\n      <td>training</td>\n      <td>35600_1_nrm_10_0.png</td>\n      <td>not chronic heart failure</td>\n      <td>NaN</td>\n      <td>female</td>\n      <td>Caucasian</td>\n      <td>60.0</td>\n      <td>35600</td>\n      <td>normal cardiovascular function by cardiac cath...</td>\n    </tr>\n    <tr>\n      <th>616</th>\n      <td>training</td>\n      <td>35604_1_nrm_11_0.png</td>\n      <td>not chronic heart failure</td>\n      <td>NaN</td>\n      <td>female</td>\n      <td>Caucasian</td>\n      <td>55.0</td>\n      <td>35604</td>\n      <td>normal cardiovascular function by cardiac cath...</td>\n    </tr>\n    <tr>\n      <th>649</th>\n      <td>training</td>\n      <td>35623_1_nrm_10_0.png</td>\n      <td>not chronic heart failure</td>\n      <td>NaN</td>\n      <td>female</td>\n      <td>Caucasian</td>\n      <td>61.0</td>\n      <td>35623</td>\n      <td>normal cardiovascular function by cardiac cath...</td>\n    </tr>\n    <tr>\n      <th>671</th>\n      <td>training</td>\n      <td>35627_1_nrm_10_0.png</td>\n      <td>not chronic heart failure</td>\n      <td>NaN</td>\n      <td>female</td>\n      <td>African American</td>\n      <td>64.0</td>\n      <td>35627</td>\n      <td>donor without a history of chronic heart failu...</td>\n    </tr>\n    <tr>\n      <th>682</th>\n      <td>training</td>\n      <td>35631_1_nrm_10_0.png</td>\n      <td>not chronic heart failure</td>\n      <td>NaN</td>\n      <td>female</td>\n      <td>Caucasian</td>\n      <td>45.0</td>\n      <td>35631</td>\n      <td>donor without a history of chronic heart failu...</td>\n    </tr>\n    <tr>\n      <th>704</th>\n      <td>training</td>\n      <td>35634_1_nrm_12_0.png</td>\n      <td>not chronic heart failure</td>\n      <td>NaN</td>\n      <td>female</td>\n      <td>Caucasian</td>\n      <td>24.0</td>\n      <td>35634</td>\n      <td>normal cardiovascular function by cardiac cath...</td>\n    </tr>\n    <tr>\n      <th>726</th>\n      <td>training</td>\n      <td>35639_1_nrm_15_0.png</td>\n      <td>not chronic heart failure</td>\n      <td>NaN</td>\n      <td>female</td>\n      <td>Caucasian</td>\n      <td>57.0</td>\n      <td>35639</td>\n      <td>donor without a history of chronic heart failu...</td>\n    </tr>\n    <tr>\n      <th>792</th>\n      <td>training</td>\n      <td>35650_1_nrm_13_0.png</td>\n      <td>not chronic heart failure</td>\n      <td>NaN</td>\n      <td>female</td>\n      <td>Caucasian</td>\n      <td>67.0</td>\n      <td>35650</td>\n      <td>donor without a history of chronic heart failu...</td>\n    </tr>\n    <tr>\n      <th>880</th>\n      <td>training</td>\n      <td>36120_1_nrm_12_0.png</td>\n      <td>not chronic heart failure</td>\n      <td>NaN</td>\n      <td>female</td>\n      <td>Caucasian</td>\n      <td>60.0</td>\n      <td>36120</td>\n      <td>normal cardiovascular function by cardiac cath...</td>\n    </tr>\n    <tr>\n      <th>924</th>\n      <td>training</td>\n      <td>36130_1_nrm_18_0.png</td>\n      <td>not chronic heart failure</td>\n      <td>NaN</td>\n      <td>female</td>\n      <td>Caucasian</td>\n      <td>56.0</td>\n      <td>36130</td>\n      <td>donor without a history of chronic heart failu...</td>\n    </tr>\n    <tr>\n      <th>935</th>\n      <td>training</td>\n      <td>36131_1_nrm_11_0.png</td>\n      <td>not chronic heart failure</td>\n      <td>NaN</td>\n      <td>female</td>\n      <td>Caucasian</td>\n      <td>66.0</td>\n      <td>36131</td>\n      <td>donor without a history of chronic heart failu...</td>\n    </tr>\n    <tr>\n      <th>946</th>\n      <td>training</td>\n      <td>36133_1_nrm_10_0.png</td>\n      <td>not chronic heart failure</td>\n      <td>NaN</td>\n      <td>female</td>\n      <td>Caucasian</td>\n      <td>67.0</td>\n      <td>36133</td>\n      <td>donor without a history of chronic heart failu...</td>\n    </tr>\n    <tr>\n      <th>968</th>\n      <td>training</td>\n      <td>36136_1_nrm_10_0.png</td>\n      <td>not chronic heart failure</td>\n      <td>NaN</td>\n      <td>female</td>\n      <td>Caucasian</td>\n      <td>74.0</td>\n      <td>36136</td>\n      <td>donor without a history of chronic heart failu...</td>\n    </tr>\n    <tr>\n      <th>979</th>\n      <td>training</td>\n      <td>36142_1_nrm_11_0.png</td>\n      <td>not chronic heart failure</td>\n      <td>NaN</td>\n      <td>female</td>\n      <td>Caucasian</td>\n      <td>68.0</td>\n      <td>36142</td>\n      <td>donor without a history of chronic heart failu...</td>\n    </tr>\n    <tr>\n      <th>1001</th>\n      <td>training</td>\n      <td>36148_1_nrm_18_0.png</td>\n      <td>not chronic heart failure</td>\n      <td>NaN</td>\n      <td>female</td>\n      <td>Caucasian</td>\n      <td>77.0</td>\n      <td>36148</td>\n      <td>donor without a history of chronic heart failu...</td>\n    </tr>\n    <tr>\n      <th>1012</th>\n      <td>training</td>\n      <td>36150_1_nrm_11_0.png</td>\n      <td>not chronic heart failure</td>\n      <td>NaN</td>\n      <td>female</td>\n      <td>Caucasian</td>\n      <td>24.0</td>\n      <td>36150</td>\n      <td>donor without a history of chronic heart failu...</td>\n    </tr>\n    <tr>\n      <th>1023</th>\n      <td>training</td>\n      <td>36151_1_nrm_11_0.png</td>\n      <td>not chronic heart failure</td>\n      <td>NaN</td>\n      <td>female</td>\n      <td>African American</td>\n      <td>65.0</td>\n      <td>36151</td>\n      <td>donor without a history of chronic heart failu...</td>\n    </tr>\n    <tr>\n      <th>1067</th>\n      <td>training</td>\n      <td>36162_1_nrm_13_0.png</td>\n      <td>not chronic heart failure</td>\n      <td>NaN</td>\n      <td>female</td>\n      <td>Hispanic</td>\n      <td>41.0</td>\n      <td>36162</td>\n      <td>donor without a history of chronic heart failu...</td>\n    </tr>\n    <tr>\n      <th>1078</th>\n      <td>training</td>\n      <td>36164_1_nrm_17_0.png</td>\n      <td>not chronic heart failure</td>\n      <td>NaN</td>\n      <td>female</td>\n      <td>Caucasian</td>\n      <td>60.0</td>\n      <td>36164</td>\n      <td>donor without a history of chronic heart failu...</td>\n    </tr>\n    <tr>\n      <th>1111</th>\n      <td>training</td>\n      <td>36170_1_nrm_12_0.png</td>\n      <td>not chronic heart failure</td>\n      <td>NaN</td>\n      <td>female</td>\n      <td>Caucasian</td>\n      <td>59.0</td>\n      <td>36170</td>\n      <td>donor without a history of chronic heart failu...</td>\n    </tr>\n    <tr>\n      <th>1573</th>\n      <td>test</td>\n      <td>34073_1_nrm_10_0.png</td>\n      <td>not chronic heart failure</td>\n      <td>NaN</td>\n      <td>female</td>\n      <td>Unknown racial group</td>\n      <td>62.0</td>\n      <td>34073</td>\n      <td>donor without a history of chronic heart failu...</td>\n    </tr>\n    <tr>\n      <th>1639</th>\n      <td>test</td>\n      <td>34086_1_nrm_11_0.png</td>\n      <td>not chronic heart failure</td>\n      <td>NaN</td>\n      <td>female</td>\n      <td>Caucasian</td>\n      <td>54.0</td>\n      <td>34086</td>\n      <td>donor without a history of chronic heart failu...</td>\n    </tr>\n    <tr>\n      <th>1672</th>\n      <td>test</td>\n      <td>34090_1_nrm_11_0.png</td>\n      <td>not chronic heart failure</td>\n      <td>NaN</td>\n      <td>female</td>\n      <td>Caucasian</td>\n      <td>65.0</td>\n      <td>34090</td>\n      <td>donor without a history of chronic heart failu...</td>\n    </tr>\n    <tr>\n      <th>1727</th>\n      <td>test</td>\n      <td>34296_1_nrm_14_0.png</td>\n      <td>not chronic heart failure</td>\n      <td>NaN</td>\n      <td>female</td>\n      <td>Caucasian</td>\n      <td>59.0</td>\n      <td>34296</td>\n      <td>donor without a history of chronic heart failu...</td>\n    </tr>\n    <tr>\n      <th>1760</th>\n      <td>test</td>\n      <td>35592_1_nrm_11_0.png</td>\n      <td>not chronic heart failure</td>\n      <td>NaN</td>\n      <td>female</td>\n      <td>Hispanic</td>\n      <td>69.0</td>\n      <td>35592</td>\n      <td>donor without a history of chronic heart failu...</td>\n    </tr>\n    <tr>\n      <th>1771</th>\n      <td>test</td>\n      <td>35594_1_nrm_10_0.png</td>\n      <td>not chronic heart failure</td>\n      <td>NaN</td>\n      <td>female</td>\n      <td>Caucasian</td>\n      <td>52.0</td>\n      <td>35594</td>\n      <td>normal cardiovascular function by cardiac cath...</td>\n    </tr>\n    <tr>\n      <th>1782</th>\n      <td>test</td>\n      <td>35597_1_nrm_10_0.png</td>\n      <td>not chronic heart failure</td>\n      <td>NaN</td>\n      <td>female</td>\n      <td>African American</td>\n      <td>73.0</td>\n      <td>35597</td>\n      <td>donor without a history of chronic heart failu...</td>\n    </tr>\n    <tr>\n      <th>1793</th>\n      <td>test</td>\n      <td>35599_1_nrm_10_0.png</td>\n      <td>not chronic heart failure</td>\n      <td>NaN</td>\n      <td>female</td>\n      <td>Caucasian</td>\n      <td>51.0</td>\n      <td>35599</td>\n      <td>donor without a history of chronic heart failu...</td>\n    </tr>\n    <tr>\n      <th>1815</th>\n      <td>test</td>\n      <td>35602_1_nrm_1_0.png</td>\n      <td>not chronic heart failure</td>\n      <td>NaN</td>\n      <td>female</td>\n      <td>Caucasian</td>\n      <td>8.0</td>\n      <td>35602</td>\n      <td>donor without a history of chronic heart failu...</td>\n    </tr>\n    <tr>\n      <th>1826</th>\n      <td>test</td>\n      <td>35603_1_nrm_10_0.png</td>\n      <td>not chronic heart failure</td>\n      <td>NaN</td>\n      <td>female</td>\n      <td>Caucasian</td>\n      <td>65.0</td>\n      <td>35603</td>\n      <td>donor without a history of chronic heart failu...</td>\n    </tr>\n    <tr>\n      <th>1848</th>\n      <td>test</td>\n      <td>35607_1_nrm_13_0.png</td>\n      <td>not chronic heart failure</td>\n      <td>NaN</td>\n      <td>female</td>\n      <td>Caucasian</td>\n      <td>80.0</td>\n      <td>35607</td>\n      <td>normal cardiovascular function by cardiac cath...</td>\n    </tr>\n    <tr>\n      <th>1859</th>\n      <td>test</td>\n      <td>35609_1_nrm_10_0.png</td>\n      <td>not chronic heart failure</td>\n      <td>NaN</td>\n      <td>female</td>\n      <td>African American</td>\n      <td>20.0</td>\n      <td>35609</td>\n      <td>normal cardiovascular function by cardiac cath...</td>\n    </tr>\n    <tr>\n      <th>1870</th>\n      <td>test</td>\n      <td>35622_1_nrm_12_0.png</td>\n      <td>not chronic heart failure</td>\n      <td>NaN</td>\n      <td>female</td>\n      <td>Caucasian</td>\n      <td>55.0</td>\n      <td>35622</td>\n      <td>normal cardiovascular function by cardiac cath...</td>\n    </tr>\n    <tr>\n      <th>1892</th>\n      <td>test</td>\n      <td>35626_1_nrm_10_0.png</td>\n      <td>not chronic heart failure</td>\n      <td>NaN</td>\n      <td>female</td>\n      <td>Caucasian</td>\n      <td>65.0</td>\n      <td>35626</td>\n      <td>donor without a history of chronic heart failu...</td>\n    </tr>\n    <tr>\n      <th>1969</th>\n      <td>test</td>\n      <td>35638_1_nrm_16_0.png</td>\n      <td>not chronic heart failure</td>\n      <td>NaN</td>\n      <td>female</td>\n      <td>Hispanic</td>\n      <td>37.0</td>\n      <td>35638</td>\n      <td>donor without a history of chronic heart failu...</td>\n    </tr>\n    <tr>\n      <th>1980</th>\n      <td>test</td>\n      <td>35643_1_nrm_13_0.png</td>\n      <td>not chronic heart failure</td>\n      <td>NaN</td>\n      <td>female</td>\n      <td>Caucasian</td>\n      <td>59.0</td>\n      <td>35643</td>\n      <td>normal cardiovascular function by cardiac cath...</td>\n    </tr>\n    <tr>\n      <th>2024</th>\n      <td>test</td>\n      <td>35651_1_nrm_1_0.png</td>\n      <td>not chronic heart failure</td>\n      <td>NaN</td>\n      <td>female</td>\n      <td>African American</td>\n      <td>50.0</td>\n      <td>35651</td>\n      <td>donor without a history of chronic heart failu...</td>\n    </tr>\n    <tr>\n      <th>2068</th>\n      <td>test</td>\n      <td>36114_1_nrm_12_0.png</td>\n      <td>not chronic heart failure</td>\n      <td>NaN</td>\n      <td>female</td>\n      <td>Caucasian</td>\n      <td>21.0</td>\n      <td>36114</td>\n      <td>donor without a history of chronic heart failu...</td>\n    </tr>\n    <tr>\n      <th>2079</th>\n      <td>test</td>\n      <td>36116_1_nrm_10_0.png</td>\n      <td>not chronic heart failure</td>\n      <td>NaN</td>\n      <td>female</td>\n      <td>Caucasian</td>\n      <td>56.0</td>\n      <td>36116</td>\n      <td>donor without a history of chronic heart failu...</td>\n    </tr>\n    <tr>\n      <th>2090</th>\n      <td>test</td>\n      <td>36117_1_nrm_11_0.png</td>\n      <td>not chronic heart failure</td>\n      <td>NaN</td>\n      <td>female</td>\n      <td>Caucasian</td>\n      <td>26.0</td>\n      <td>36117</td>\n      <td>donor without a history of chronic heart failu...</td>\n    </tr>\n    <tr>\n      <th>2101</th>\n      <td>test</td>\n      <td>36121_1_nrm_10_0.png</td>\n      <td>not chronic heart failure</td>\n      <td>NaN</td>\n      <td>female</td>\n      <td>Caucasian</td>\n      <td>78.0</td>\n      <td>36121</td>\n      <td>donor without a history of chronic heart failu...</td>\n    </tr>\n    <tr>\n      <th>2112</th>\n      <td>test</td>\n      <td>36123_1_nrm_43_0.png</td>\n      <td>not chronic heart failure</td>\n      <td>NaN</td>\n      <td>female</td>\n      <td>Caucasian</td>\n      <td>57.0</td>\n      <td>36123</td>\n      <td>donor without a history of chronic heart failu...</td>\n    </tr>\n    <tr>\n      <th>2134</th>\n      <td>test</td>\n      <td>36135_1_nrm_17_0.png</td>\n      <td>not chronic heart failure</td>\n      <td>NaN</td>\n      <td>female</td>\n      <td>Caucasian</td>\n      <td>77.0</td>\n      <td>36135</td>\n      <td>donor without a history of chronic heart failu...</td>\n    </tr>\n    <tr>\n      <th>2145</th>\n      <td>test</td>\n      <td>36141_1_nrm_10_0.png</td>\n      <td>not chronic heart failure</td>\n      <td>NaN</td>\n      <td>female</td>\n      <td>Caucasian</td>\n      <td>57.0</td>\n      <td>36141</td>\n      <td>donor without a history of chronic heart failu...</td>\n    </tr>\n    <tr>\n      <th>2167</th>\n      <td>test</td>\n      <td>36152_1_nrm_11_0.png</td>\n      <td>not chronic heart failure</td>\n      <td>NaN</td>\n      <td>female</td>\n      <td>Caucasian</td>\n      <td>51.0</td>\n      <td>36152</td>\n      <td>normal cardiovascular function by cardiac cath...</td>\n    </tr>\n    <tr>\n      <th>2189</th>\n      <td>test</td>\n      <td>36156_1_nrm_15_0.png</td>\n      <td>not chronic heart failure</td>\n      <td>NaN</td>\n      <td>female</td>\n      <td>Caucasian</td>\n      <td>75.0</td>\n      <td>36156</td>\n      <td>donor without a history of chronic heart failu...</td>\n    </tr>\n    <tr>\n      <th>2211</th>\n      <td>test</td>\n      <td>36160_1_nrm_10_0.png</td>\n      <td>not chronic heart failure</td>\n      <td>NaN</td>\n      <td>female</td>\n      <td>African American</td>\n      <td>52.0</td>\n      <td>36160</td>\n      <td>donor without a history of chronic heart failu...</td>\n    </tr>\n    <tr>\n      <th>2222</th>\n      <td>test</td>\n      <td>36163_1_nrm_11_0.png</td>\n      <td>not chronic heart failure</td>\n      <td>NaN</td>\n      <td>female</td>\n      <td>Caucasian</td>\n      <td>75.0</td>\n      <td>36163</td>\n      <td>donor without a history of chronic heart failu...</td>\n    </tr>\n    <tr>\n      <th>2244</th>\n      <td>test</td>\n      <td>36167_1_nrm_17_0.png</td>\n      <td>not chronic heart failure</td>\n      <td>NaN</td>\n      <td>female</td>\n      <td>African American</td>\n      <td>56.0</td>\n      <td>36167</td>\n      <td>normal cardiovascular function by cardiac cath...</td>\n    </tr>\n    <tr>\n      <th>2277</th>\n      <td>test</td>\n      <td>36173_1_nrm_10_0.png</td>\n      <td>not chronic heart failure</td>\n      <td>NaN</td>\n      <td>female</td>\n      <td>Caucasian</td>\n      <td>59.0</td>\n      <td>36173</td>\n      <td>donor without a history of chronic heart failu...</td>\n    </tr>\n    <tr>\n      <th>2288</th>\n      <td>test</td>\n      <td>36175_1_nrm_10_0.png</td>\n      <td>not chronic heart failure</td>\n      <td>NaN</td>\n      <td>female</td>\n      <td>Caucasian</td>\n      <td>53.0</td>\n      <td>36175</td>\n      <td>normal cardiovascular function by cardiac cath...</td>\n    </tr>\n  </tbody>\n</table>\n</div>"
     },
     "metadata": {},
     "execution_count": 308
    }
   ],
   "source": [
    "plot_data[plot_data[\"Sex\"]!=\"male\"]\n",
    "#plot_data[plot_data[\"\"]]\n",
    "#plot_data= plot_data.drop(medical_data[medical_data[\"Sex\"] == \"nan\"])"
   ]
  },
  {
   "cell_type": "code",
   "execution_count": 309,
   "metadata": {},
   "outputs": [
    {
     "output_type": "stream",
     "name": "stdout",
     "text": [
      "ColumnDataSource(id='9031', ...)\n"
     ]
    }
   ],
   "source": [
    "#Main Plot, showing the ethnicity age and gender non healthy patients\n",
    "\n",
    "\n",
    "\n",
    "#colormap = {'African American': 'black', 'Caucasian': 'green', 'Race not stated': 'blue',  'Unknown racial group': 'blue'}\n",
    "\n",
    "#colormap = {1: 'black', 0: 'green'}\n",
    "#colors = [colormap[x] for x in plot_data['Ethnic or Racial Group']]\n",
    "\n",
    "colormap = {'male': \"blue\", \"female\" : \"red\"}\n",
    "colors = [colormap[x] for x in plot_data['Sex']]\n",
    "\n",
    "source = ColumnDataSource(plot_data)\n",
    "\n",
    "\n",
    "view_male = CDSView(source=source, filters=[BooleanFilter([True if x==\"female\" else False for x in source.data[\"Sex\"]])])\n",
    "view_female = CDSView(source=source, filters=[BooleanFilter([True if x==\"male\" else False for x in source.data[\"Sex\"]])])\n",
    "\n",
    "print(source)\n",
    "p1 = figure(title = \"Ethnic groups and time of infection \", y_range= plot_data['Ethnic or Racial Group'].unique())\n",
    "\n",
    "p1.xaxis.axis_label = 'Age'\n",
    "p1.yaxis.axis_label = 'Ethnic group'\n",
    "#for gender in colormap.keys():\n",
    "  #  genderFilteredDataFrame = plot_data[plot_data['Sex'] == gender]\n",
    " #   p1.circle(genderFilteredDataFrame['Age'], genderFilteredDataFrame['Ethnic or Racial Group'],\n",
    "#    color = colormap[gender], fill_alpha=0.2, legend_label=gender, size=10)\n",
    "\n",
    "\n",
    "\n",
    "p1.circle(x='Age',y='Ethnic or Racial Group',\n",
    "         fill_alpha=0.2, size=10, source=source, color=\"Sex\", legend_label=\"Sex\", view=view_female)\n",
    "\n",
    "p1.circle(x='Age',y='Ethnic or Racial Group',\n",
    "         fill_alpha=0.2, size=10, source=source, color=\"Sex\", legend_label=\"Sex\", view=view_male)\n",
    "\n",
    "\n",
    "p1.add_tools(LassoSelectTool())\n",
    "\n",
    "\n",
    "p1.legend.location = \"top_right\"\n",
    "p1.legend.click_policy=\"hide\"\n",
    "\n",
    "\n"
   ]
  },
  {
   "cell_type": "code",
   "execution_count": 310,
   "metadata": {},
   "outputs": [],
   "source": [
    "p2 = figure(title = \"Ethnic groups and time of infection \", y_range= plot_data['Ethnic or Racial Group'].unique())\n",
    "\n",
    "p2.xaxis.axis_label = 'Age'\n",
    "p2.yaxis.axis_label = 'Ethnic group'\n",
    "#for gender in colormap.keys():\n",
    "  #  genderFilteredDataFrame = plot_data[plot_data['Sex'] == gender]\n",
    " #   p1.circle(genderFilteredDataFrame['Age'], genderFilteredDataFrame['Ethnic or Racial Group'],\n",
    "#    color = colormap[gender], fill_alpha=0.2, legend_label=gender, size=10)\n",
    "\n",
    "p2.circle(x='Age',y='Ethnic or Racial Group',\n",
    "         fill_alpha=0.2, size=10, source=source)\n",
    "p2.add_tools(LassoSelectTool())          "
   ]
  },
  {
   "cell_type": "code",
   "execution_count": 311,
   "metadata": {},
   "outputs": [],
   "source": [
    "output_file(\"Ethnic groups and time of infection.html\", title=\"Ethnic groups and time of infection\")\n",
    "\n",
    "p=gridplot([[p1, p2]])\n",
    "show(p)"
   ]
  },
  {
   "cell_type": "code",
   "execution_count": 272,
   "metadata": {},
   "outputs": [],
   "source": []
  },
  {
   "cell_type": "code",
   "execution_count": 312,
   "metadata": {
    "tags": [
     "outputPrepend"
    ]
   },
   "outputs": [
    {
     "output_type": "stream",
     "name": "stdout",
     "text": [
      "ilure', 'not chronic heart failure',\n       'not chronic heart failure', 'not chronic heart failure',\n       'not chronic heart failure', 'not chronic heart failure',\n       'not chronic heart failure', 'not chronic heart failure',\n       'not chronic heart failure', 'not chronic heart failure',\n       'not chronic heart failure', 'not chronic heart failure',\n       'not chronic heart failure', 'not chronic heart failure',\n       'not chronic heart failure', 'not chronic heart failure',\n       'not chronic heart failure', 'not chronic heart failure',\n       'not chronic heart failure', 'not chronic heart failure',\n       'not chronic heart failure', 'not chronic heart failure',\n       'not chronic heart failure', 'not chronic heart failure',\n       'not chronic heart failure', 'not chronic heart failure',\n       'not chronic heart failure', 'not chronic heart failure',\n       'not chronic heart failure', 'not chronic heart failure',\n       'not chronic heart failure', 'not chronic heart failure',\n       'not chronic heart failure', 'not chronic heart failure',\n       'not chronic heart failure', 'not chronic heart failure',\n       'not chronic heart failure', 'not chronic heart failure',\n       'not chronic heart failure', 'heart tissue pathology',\n       'not chronic heart failure', 'heart tissue pathology',\n       'not chronic heart failure', 'not chronic heart failure',\n       'not chronic heart failure', 'not chronic heart failure',\n       'not chronic heart failure', 'not chronic heart failure',\n       'not chronic heart failure', 'not chronic heart failure',\n       'not chronic heart failure', 'not chronic heart failure',\n       'not chronic heart failure', 'not chronic heart failure',\n       'not chronic heart failure', 'not chronic heart failure',\n       'not chronic heart failure', 'not chronic heart failure',\n       'not chronic heart failure', 'not chronic heart failure',\n       'not chronic heart failure', 'not chronic heart failure',\n       'not chronic heart failure', 'not chronic heart failure',\n       'not chronic heart failure', 'not chronic heart failure',\n       'not chronic heart failure', 'not chronic heart failure',\n       'not chronic heart failure', 'not chronic heart failure',\n       'not chronic heart failure', 'not chronic heart failure',\n       'not chronic heart failure', 'not chronic heart failure',\n       'not chronic heart failure', 'not chronic heart failure',\n       'not chronic heart failure', 'not chronic heart failure',\n       'not chronic heart failure', 'not chronic heart failure',\n       'not chronic heart failure', 'not chronic heart failure',\n       'not chronic heart failure', 'not chronic heart failure',\n       'not chronic heart failure', 'not chronic heart failure',\n       'not chronic heart failure', 'not chronic heart failure',\n       'not chronic heart failure', 'not chronic heart failure',\n       'not chronic heart failure', 'not chronic heart failure',\n       'not chronic heart failure', 'not chronic heart failure'],\n      dtype=object), 'Disease Subtype': array([nan, nan, nan, nan, nan, nan, nan, nan, nan, nan, nan, nan, nan,\n       nan, nan, nan, nan, nan, nan, nan, nan, nan, nan, nan, nan, nan,\n       nan, nan, nan, nan, nan, nan, nan, nan, nan, nan, nan, nan, nan,\n       nan, nan, nan, nan, nan, nan, nan, nan, nan, nan, nan, nan, nan,\n       nan, nan, nan, nan, nan, nan, nan, 'myocardium disease', nan,\n       'myocardium disease', nan, nan, nan, nan, nan, nan, nan, nan, nan,\n       nan, nan, nan, nan, nan, nan, nan, nan, nan, nan, nan, nan, nan,\n       nan, nan, nan, nan, nan, nan, nan, nan, nan, nan, nan, nan, nan,\n       nan, nan, nan, nan, nan, nan, nan, nan, nan, nan, nan, nan, nan,\n       nan, nan, nan, nan], dtype=object), 'Sex': array(['female', 'male', 'male', 'male', 'female', 'male', 'male',\n       'female', 'female', 'female', 'male', 'female', 'male', 'female',\n       'female', 'male', 'female', 'male', 'female', 'male', 'male',\n       'male', 'male', 'male', 'female', 'male', 'male', 'male', 'male',\n       'male', 'male', 'male', 'female', 'male', 'male', 'male', 'female',\n       'female', 'female', 'male', 'female', 'female', 'male', 'female',\n       'female', 'female', 'male', 'male', 'male', 'female', 'female',\n       'male', 'male', 'female', 'male', 'male', 'male', 'female',\n       'female', 'male', 'female', 'male', 'female', 'male', 'male',\n       'female', 'female', 'female', 'female', 'male', 'female', 'female',\n       'male', 'female', 'female', 'female', 'male', 'female', 'male',\n       'male', 'male', 'male', 'male', 'male', 'female', 'female', 'male',\n       'male', 'male', 'female', 'male', 'male', 'male', 'female',\n       'female', 'female', 'female', 'female', 'male', 'female', 'female',\n       'male', 'female', 'male', 'female', 'male', 'female', 'female',\n       'male', 'female', 'male', 'male', 'female', 'female'], dtype=object), 'Ethnic or Racial Group': array(['Unknown racial group', 'Caucasian', 'Hispanic', 'Caucasian',\n       'African American', 'Hispanic', 'Caucasian', 'Hispanic',\n       'Caucasian', 'Caucasian', 'Caucasian', 'Caucasian',\n       'African American', 'African American', 'Caucasian', 'Caucasian',\n       'Caucasian', 'Caucasian', 'Caucasian', 'African American',\n       'Caucasian', 'African American', 'Caucasian', 'Caucasian',\n       'Caucasian', 'Caucasian', 'Caucasian', 'Caucasian', 'Caucasian',\n       'Caucasian', 'Hispanic', 'Caucasian', 'Caucasian', 'Caucasian',\n       'Caucasian', 'African American', 'Caucasian', 'Caucasian',\n       'Caucasian', 'Caucasian', 'Caucasian', 'Caucasian', 'Caucasian',\n       'Caucasian', 'Caucasian', 'African American', 'Caucasian',\n       'Caucasian', 'Caucasian', 'Hispanic', 'Caucasian', 'Caucasian',\n       'Hispanic', 'Caucasian', 'Caucasian', 'Caucasian', 'Caucasian',\n       'Unknown racial group', 'Caucasian', 'Caucasian', 'Caucasian',\n       'Caucasian', 'Caucasian', 'African American', 'Caucasian',\n       'Hispanic', 'Caucasian', 'African American', 'Caucasian',\n       'African American', 'Caucasian', 'Caucasian', 'Hispanic',\n       'Caucasian', 'African American', 'Caucasian', 'African American',\n       'Caucasian', 'Caucasian', 'Hispanic', 'Caucasian', 'Caucasian',\n       'Caucasian', 'African American', 'Hispanic', 'Caucasian',\n       'African American', 'Caucasian', 'African American',\n       'African American', 'Caucasian', 'Caucasian', 'Caucasian',\n       'Caucasian', 'Caucasian', 'Caucasian', 'Caucasian', 'Caucasian',\n       'Caucasian', 'Caucasian', 'Caucasian', 'Caucasian', 'Caucasian',\n       'Caucasian', 'Caucasian', 'Hispanic', 'African American',\n       'Caucasian', 'African American', 'African American', 'Caucasian',\n       'Caucasian', 'Caucasian', 'Caucasian'], dtype=object), 'Age': array([58., 76., 66., 47., 65., 61., 33., 68., 60., 55., 28., 61., 51.,\n       64., 45., 34., 24., 56., 57., 46., 64., 59., 42., 44., 67., 56.,\n       56., 58.,  1., 40., 51., 59., 60., 59., 43., 56., 56., 66., 67.,\n       58., 74., 68., 53., 77., 24., 65., 75., 51., 69., 41., 60., 77.,\n       52., 59., 59., 38., 59., 62., 54., 24., 65., 59., 59., 44., 71.,\n       69., 52., 73., 51., 53.,  8., 65., 44., 80., 20., 55.,  3., 65.,\n       43., 51., 56., 61., 48., 44., 37., 59., 50., 56., 48., 50., 42.,\n       62., 58., 21., 56., 26., 78., 57., 53., 77., 57., 36., 51., 60.,\n       75., 42., 52., 75., 41., 56., 44., 59., 59., 53.]), 'Patient Id': array([33553, 34075, 34080, 35588, 35591, 35593, 35595, 35598, 35600,\n       35604, 35608, 35623, 35624, 35627, 35631, 35633, 35634, 35636,\n       35639, 35641, 35642, 35645, 35647, 35648, 35650, 35876, 35877,\n       35879, 35881, 36111, 36112, 36118, 36120, 36124, 36125, 36126,\n       36130, 36131, 36133, 36134, 36136, 36142, 36144, 36148, 36150,\n       36151, 36153, 36157, 36158, 36162, 36164, 36168, 36169, 36170,\n       36174, 36176, 34072, 34073, 34086, 34088, 34090, 34092, 34296,\n       35589, 35590, 35592, 35594, 35597, 35599, 35601, 35602, 35603,\n       35606, 35607, 35609, 35622, 35625, 35626, 35628, 35629, 35630,\n       35632, 35635, 35637, 35638, 35643, 35644, 35646, 35649, 35651,\n       35878, 35880, 36109, 36114, 36116, 36117, 36121, 36123, 36129,\n       36135, 36141, 36147, 36152, 36154, 36156, 36159, 36160, 36163,\n       36165, 36167, 36171, 36172, 36173, 36175], dtype=int64), 'Clinical History': array(['normal cardiovascular function by cardiac catheterization',\n       'donor without a history of chronic heart failure but no definitive tests showing normal cardiovascular function',\n       'donor without a history of chronic heart failure but no definitive tests showing normal cardiovascular function',\n       'donor without a history of chronic heart failure but no definitive tests showing normal cardiovascular function',\n       'donor without a history of chronic heart failure but no definitive tests showing normal cardiovascular function',\n       'normal cardiovascular function by cardiac catheterization',\n       'normal cardiovascular function by cardiac catheterization',\n       'donor without a history of chronic heart failure but no definitive tests showing normal cardiovascular function',\n       'normal cardiovascular function by cardiac catheterization',\n       'normal cardiovascular function by cardiac catheterization',\n       'donor without a history of chronic heart failure but no definitive tests showing normal cardiovascular function',\n       'normal cardiovascular function by cardiac catheterization',\n       'normal cardiovascular function by cardiac catheterization',\n       'donor without a history of chronic heart failure but no definitive tests showing normal cardiovascular function',\n       'donor without a history of chronic heart failure but no definitive tests showing normal cardiovascular function',\n       'donor without a history of chronic heart failure but no definitive tests showing normal cardiovascular function',\n       'normal cardiovascular function by cardiac catheterization',\n       'normal cardiovascular function by cardiac catheterization',\n       'donor without a history of chronic heart failure but no definitive tests showing normal cardiovascular function',\n       'donor without a history of chronic heart failure but no definitive tests showing normal cardiovascular function',\n       'donor without a history of chronic heart failure but no definitive tests showing normal cardiovascular function',\n       'donor without a history of chronic heart failure but no definitive tests showing normal cardiovascular function',\n       'normal cardiovascular function by cardiac catheterization',\n       'donor without a history of chronic heart failure but no definitive tests showing normal cardiovascular function',\n       'donor without a history of chronic heart failure but no definitive tests showing normal cardiovascular function',\n       'donor without a history of chronic heart failure but no definitive tests showing normal cardiovascular function',\n       'normal cardiovascular function by cardiac catheterization',\n       'donor without a history of chronic heart failure but no definitive tests showing normal cardiovascular function',\n       'normal cardiovascular function by cardiac catheterization',\n       'normal cardiovascular function by cardiac catheterization',\n       'donor without a history of chronic heart failure but no definitive tests showing normal cardiovascular function',\n       'donor without a history of chronic heart failure but no definitive tests showing normal cardiovascular function',\n       'normal cardiovascular function by cardiac catheterization',\n       'normal cardiovascular function by cardiac catheterization',\n       'normal cardiovascular function by cardiac catheterization',\n       'normal cardiovascular function by cardiac catheterization',\n       'donor without a history of chronic heart failure but no definitive tests showing normal cardiovascular function',\n       'donor without a history of chronic heart failure but no definitive tests showing normal cardiovascular function',\n       'donor without a history of chronic heart failure but no definitive tests showing normal cardiovascular function',\n       'donor without a history of chronic heart failure but no definitive tests showing normal cardiovascular function',\n       'donor without a history of chronic heart failure but no definitive tests showing normal cardiovascular function',\n       'donor without a history of chronic heart failure but no definitive tests showing normal cardiovascular function',\n       'normal cardiovascular function by cardiac catheterization',\n       'donor without a history of chronic heart failure but no definitive tests showing normal cardiovascular function',\n       'donor without a history of chronic heart failure but no definitive tests showing normal cardiovascular function',\n       'donor without a history of chronic heart failure but no definitive tests showing normal cardiovascular function',\n       'donor without a history of chronic heart failure but no definitive tests showing normal cardiovascular function',\n       'normal cardiovascular function by cardiac catheterization',\n       'donor without a history of chronic heart failure but no definitive tests showing normal cardiovascular function',\n       'donor without a history of chronic heart failure but no definitive tests showing normal cardiovascular function',\n       'donor without a history of chronic heart failure but no definitive tests showing normal cardiovascular function',\n       'donor without a history of chronic heart failure but no definitive tests showing normal cardiovascular function',\n       'donor without a history of chronic heart failure but no definitive tests showing normal cardiovascular function',\n       'donor without a history of chronic heart failure but no definitive tests showing normal cardiovascular function',\n       'normal cardiovascular function by cardiac catheterization',\n       'normal cardiovascular function by cardiac catheterization',\n       'normal cardiovascular function by cardiac catheterization',\n       'donor without a history of chronic heart failure but no definitive tests showing normal cardiovascular function',\n       'donor without a history of chronic heart failure but no definitive tests showing normal cardiovascular function',\n       'donor without a history of chronic symptomatic heart failure but tissue pathology',\n       'donor without a history of chronic heart failure but no definitive tests showing normal cardiovascular function',\n       'donor without a history of chronic symptomatic heart failure but tissue pathology',\n       'donor without a history of chronic heart failure but no definitive tests showing normal cardiovascular function',\n       'normal cardiovascular function by cardiac catheterization',\n       'donor without a history of chronic heart failure but no definitive tests showing normal cardiovascular function',\n       'donor without a history of chronic heart failure but no definitive tests showing normal cardiovascular function',\n       'normal cardiovascular function by cardiac catheterization',\n       'donor without a history of chronic heart failure but no definitive tests showing normal cardiovascular function',\n       'donor without a history of chronic heart failure but no definitive tests showing normal cardiovascular function',\n       'donor without a history of chronic heart failure but no definitive tests showing normal cardiovascular function',\n       'donor without a history of chronic heart failure but no definitive tests showing normal cardiovascular function',\n       'donor without a history of chronic heart failure but no definitive tests showing normal cardiovascular function',\n       'normal cardiovascular function by cardiac catheterization',\n       'normal cardiovascular function by cardiac catheterization',\n       'normal cardiovascular function by cardiac catheterization',\n       'normal cardiovascular function by cardiac catheterization',\n       'donor without a history of chronic heart failure but no definitive tests showing normal cardiovascular function',\n       'donor without a history of chronic heart failure but no definitive tests showing normal cardiovascular function',\n       'normal cardiovascular function by cardiac catheterization',\n       'donor without a history of chronic heart failure but no definitive tests showing normal cardiovascular function',\n       'normal cardiovascular function by cardiac catheterization',\n       'donor without a history of chronic heart failure but no definitive tests showing normal cardiovascular function',\n       'normal cardiovascular function by cardiac catheterization',\n       'normal cardiovascular function by cardiac catheterization',\n       'donor without a history of chronic heart failure but no definitive tests showing normal cardiovascular function',\n       'normal cardiovascular function by cardiac catheterization',\n       'donor without a history of chronic heart failure but no definitive tests showing normal cardiovascular function',\n       'donor without a history of chronic heart failure but no definitive tests showing normal cardiovascular function',\n       'donor without a history of chronic heart failure but no definitive tests showing normal cardiovascular function',\n       'donor without a history of chronic heart failure but no definitive tests showing normal cardiovascular function',\n       'donor without a history of chronic heart failure but no definitive tests showing normal cardiovascular function',\n       'donor without a history of chronic heart failure but no definitive tests showing normal cardiovascular function',\n       'normal cardiovascular function by cardiac catheterization',\n       'donor without a history of chronic heart failure but no definitive tests showing normal cardiovascular function',\n       'donor without a history of chronic heart failure but no definitive tests showing normal cardiovascular function',\n       'donor without a history of chronic heart failure but no definitive tests showing normal cardiovascular function',\n       'donor without a history of chronic heart failure but no definitive tests showing normal cardiovascular function',\n       'donor without a history of chronic heart failure but no definitive tests showing normal cardiovascular function',\n       'normal cardiovascular function by cardiac catheterization',\n       'donor without a history of chronic heart failure but no definitive tests showing normal cardiovascular function',\n       'donor without a history of chronic heart failure but no definitive tests showing normal cardiovascular function',\n       'donor without a history of chronic heart failure but no definitive tests showing normal cardiovascular function',\n       'normal cardiovascular function by cardiac catheterization',\n       'donor without a history of chronic heart failure but no definitive tests showing normal cardiovascular function',\n       'donor without a history of chronic heart failure but no definitive tests showing normal cardiovascular function',\n       'normal cardiovascular function by cardiac catheterization',\n       'donor without a history of chronic heart failure but no definitive tests showing normal cardiovascular function',\n       'donor without a history of chronic heart failure but no definitive tests showing normal cardiovascular function',\n       'normal cardiovascular function by cardiac catheterization',\n       'normal cardiovascular function by cardiac catheterization',\n       'normal cardiovascular function by cardiac catheterization',\n       'donor without a history of chronic heart failure but no definitive tests showing normal cardiovascular function',\n       'donor without a history of chronic heart failure but no definitive tests showing normal cardiovascular function',\n       'normal cardiovascular function by cardiac catheterization'],\n      dtype=object)}\n"
     ]
    }
   ],
   "source": [
    "print(source.data)"
   ]
  },
  {
   "cell_type": "code",
   "execution_count": null,
   "metadata": {},
   "outputs": [],
   "source": []
  }
 ]
}